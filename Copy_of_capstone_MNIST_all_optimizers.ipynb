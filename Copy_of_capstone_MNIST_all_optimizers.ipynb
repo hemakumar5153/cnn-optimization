{
  "cells": [
    {
      "cell_type": "markdown",
      "metadata": {
        "id": "view-in-github",
        "colab_type": "text"
      },
      "source": [
        "<a href=\"https://colab.research.google.com/github/hemakumar5153/cnn-optimization/blob/main/Copy_of_capstone_MNIST_all_optimizers.ipynb\" target=\"_parent\"><img src=\"https://colab.research.google.com/assets/colab-badge.svg\" alt=\"Open In Colab\"/></a>"
      ]
    },
    {
      "cell_type": "code",
      "execution_count": null,
      "metadata": {
        "colab": {
          "base_uri": "https://localhost:8080/",
          "height": 36
        },
        "id": "5hdE_JNr7WNV",
        "outputId": "8fd4507d-3aa6-4fda-db18-d201d374c704"
      },
      "outputs": [
        {
          "output_type": "execute_result",
          "data": {
            "text/plain": [
              "'2.8.2'"
            ],
            "application/vnd.google.colaboratory.intrinsic+json": {
              "type": "string"
            }
          },
          "metadata": {},
          "execution_count": 1
        }
      ],
      "source": [
        "import tensorflow\n",
        "tensorflow.__version__"
      ]
    },
    {
      "cell_type": "code",
      "execution_count": null,
      "metadata": {
        "id": "sxXnWnGYVwJM"
      },
      "outputs": [],
      "source": [
        "import keras\n",
        "from keras.models import Sequential\n",
        "from keras.layers import Dense,Flatten\n",
        "from keras.layers import Conv2D, MaxPooling2D,Activation\n",
        "from keras import layers\n",
        "import numpy as np\n",
        "import matplotlib.pyplot as plt\n",
        "from tensorflow.keras.utils import to_categorical\n",
        "from sklearn.metrics import confusion_matrix\n",
        "from keras.datasets import cifar100\n",
        "import numpy"
      ]
    },
    {
      "cell_type": "code",
      "execution_count": null,
      "metadata": {
        "id": "U7R8YRT4VwgV"
      },
      "outputs": [],
      "source": [
        "import keras\n",
        "from google.colab import files\n",
        "from keras.models import Model\n",
        "from keras.layers import *\n",
        "from keras.models import Model, load_model\n",
        "from keras import initializers\n",
        "from keras import optimizers\n",
        "from google.colab import drive\n",
        "from keras.preprocessing import image\n",
        "from keras.applications.vgg19 import VGG19\n",
        "from keras.applications.vgg16 import VGG16"
      ]
    },
    {
      "cell_type": "code",
      "execution_count": null,
      "metadata": {
        "colab": {
          "base_uri": "https://localhost:8080/"
        },
        "id": "s5v54ci67c0p",
        "outputId": "415c0f57-3c7c-4401-e72b-3cf6e3ea6b18"
      },
      "outputs": [
        {
          "output_type": "stream",
          "name": "stdout",
          "text": [
            "Downloading data from https://storage.googleapis.com/tensorflow/tf-keras-datasets/mnist.npz\n",
            "11493376/11490434 [==============================] - 0s 0us/step\n",
            "11501568/11490434 [==============================] - 0s 0us/step\n"
          ]
        }
      ],
      "source": [
        "from tensorflow.keras.datasets import mnist\n",
        "# the data, shuffled and split between train and test sets\n",
        "(X_train, y_train), (X_test, y_test) = mnist.load_data()"
      ]
    },
    {
      "cell_type": "code",
      "execution_count": null,
      "metadata": {
        "colab": {
          "base_uri": "https://localhost:8080/",
          "height": 300
        },
        "id": "XyfPmJ_B7vUG",
        "outputId": "aedb9556-d2a5-4db8-aa69-8008cff75fbb"
      },
      "outputs": [
        {
          "output_type": "stream",
          "name": "stdout",
          "text": [
            "Label: 0\n"
          ]
        },
        {
          "output_type": "execute_result",
          "data": {
            "text/plain": [
              "<matplotlib.image.AxesImage at 0x7f20ec9cfc90>"
            ]
          },
          "metadata": {},
          "execution_count": 5
        },
        {
          "output_type": "display_data",
          "data": {
            "text/plain": [
              "<Figure size 432x288 with 1 Axes>"
            ],
            "image/png": "[encoded data removed]"
          },
          "metadata": {
            "needs_background": "light"
          }
        }
      ],
      "source": [
        "import matplotlib.pyplot as plt\n",
        "%matplotlib inline\n",
        "print(\"Label: {}\".format(y_train[8000]))\n",
        "plt.imshow(X_train[8000], cmap='gray')"
      ]
    },
    {
      "cell_type": "code",
      "execution_count": null,
      "metadata": {
        "colab": {
          "base_uri": "https://localhost:8080/"
        },
        "id": "ZKXsMRiM8BQS",
        "outputId": "39f63af7-7103-4632-a4d8-10f9ddc4ed68"
      },
      "outputs": [
        {
          "output_type": "stream",
          "name": "stdout",
          "text": [
            "(60000, 28, 28)\n",
            "(60000,)\n",
            "(10000, 28, 28)\n",
            "(10000,)\n"
          ]
        }
      ],
      "source": [
        "print(X_train.shape)\n",
        "print(y_train.shape)\n",
        "print(X_test.shape)\n",
        "print(y_test.shape)"
      ]
    },
    {
      "cell_type": "code",
      "source": [
        "# expand new axis, channel axis \n",
        "X_train = np.expand_dims(X_train, axis=-1)\n",
        "\n",
        "# [optional]: we may need 3 channel (instead of 1)\n",
        "X_train = np.repeat(X_train, 3, axis=-1)"
      ],
      "metadata": {
        "id": "apcfZISFleOW"
      },
      "execution_count": null,
      "outputs": []
    },
    {
      "cell_type": "code",
      "source": [
        "# it's always better to normalize \n",
        "X_train = X_train.astype('float32') / 255\n",
        "\n",
        "# resize the input shape , i.e. old shape: 28, new shape: 32\n",
        "X_train = tf.image.resize(X_train, [32,32]) # if we want to resize "
      ],
      "metadata": {
        "id": "ULHzlaHvleR3"
      },
      "execution_count": null,
      "outputs": []
    },
    {
      "cell_type": "code",
      "source": [
        "print(X_train.shape)"
      ],
      "metadata": {
        "colab": {
          "base_uri": "https://localhost:8080/"
        },
        "id": "BvnPuxX7leU5",
        "outputId": "c1f53cfd-876c-422c-b568-bfefc5ce5d69"
      },
      "execution_count": null,
      "outputs": [
        {
          "output_type": "stream",
          "name": "stdout",
          "text": [
            "(60000, 32, 32, 3)\n"
          ]
        }
      ]
    },
    {
      "cell_type": "code",
      "source": [
        "# expand new axis, channel axis \n",
        "X_test = np.expand_dims(X_test, axis=-1)\n",
        "\n",
        "# [optional]: we may need 3 channel (instead of 1)\n",
        "X_test = np.repeat(X_test, 3, axis=-1)"
      ],
      "metadata": {
        "id": "wKGr8XxGleX3"
      },
      "execution_count": null,
      "outputs": []
    },
    {
      "cell_type": "code",
      "source": [
        "# it's always better to normalize \n",
        "X_test = X_test.astype('float32') / 255\n",
        "\n",
        "# resize the input shape , i.e. old shape: 28, new shape: 32\n",
        "X_test = tf.image.resize(X_test, [32,32]) # if we want to resize "
      ],
      "metadata": {
        "id": "MJmQ4fLyosJk"
      },
      "execution_count": null,
      "outputs": []
    },
    {
      "cell_type": "code",
      "source": [
        "print(X_test.shape)"
      ],
      "metadata": {
        "colab": {
          "base_uri": "https://localhost:8080/"
        },
        "id": "vt-moqY6lecO",
        "outputId": "d80356a4-f213-48df-cd45-c75027763495"
      },
      "execution_count": null,
      "outputs": [
        {
          "output_type": "stream",
          "name": "stdout",
          "text": [
            "(10000, 32, 32, 3)\n"
          ]
        }
      ]
    },
    {
      "cell_type": "code",
      "source": [
        "print(\"X_train shape:\", X_train.shape)\n",
        "print(\"Images in X_train:\", X_train.shape[0])\n",
        "print(\"Images in X_test:\", X_test.shape[0])"
      ],
      "metadata": {
        "colab": {
          "base_uri": "https://localhost:8080/"
        },
        "id": "b9H7E7yVlpUJ",
        "outputId": "3079e4f4-e1c6-4730-be17-c04ec2ddf4a4"
      },
      "execution_count": null,
      "outputs": [
        {
          "output_type": "stream",
          "name": "stdout",
          "text": [
            "X_train shape: (60000, 32, 32, 3)\n",
            "Images in X_train: 60000\n",
            "Images in X_test: 10000\n"
          ]
        }
      ]
    },
    {
      "cell_type": "code",
      "source": [
        "print(\"Max value in X_train:\", X_train.numpy().max())\n",
        "print(\"Min value in X_train:\", X_train.numpy().min())"
      ],
      "metadata": {
        "colab": {
          "base_uri": "https://localhost:8080/"
        },
        "id": "PpNH9psylpW1",
        "outputId": "27f16b9f-b285-4e30-e23e-3c285ff82d83"
      },
      "execution_count": null,
      "outputs": [
        {
          "output_type": "stream",
          "name": "stdout",
          "text": [
            "Max value in X_train: 1.0\n",
            "Min value in X_train: 0.0\n"
          ]
        }
      ]
    },
    {
      "cell_type": "code",
      "source": [
        "from tensorflow.keras.utils import to_categorical\n",
        "\n",
        "y_train = to_categorical(y_train, num_classes=10)\n",
        "y_test = to_categorical(y_test, num_classes=10)\n",
        "\n",
        "print(\"Shape of y_train:\", y_train.shape)\n",
        "print(\"One value of y_train:\", y_train[0])"
      ],
      "metadata": {
        "colab": {
          "base_uri": "https://localhost:8080/"
        },
        "id": "EZByc1vqlpaA",
        "outputId": "8b77659e-14f6-43a3-8d58-d17e214facf7"
      },
      "execution_count": null,
      "outputs": [
        {
          "output_type": "stream",
          "name": "stdout",
          "text": [
            "Shape of y_train: (60000, 10)\n",
            "One value of y_train: [0. 0. 0. 0. 0. 1. 0. 0. 0. 0.]\n"
          ]
        }
      ]
    },
    {
      "cell_type": "code",
      "source": [],
      "metadata": {
        "id": "Ut9z5DZ1lpcx"
      },
      "execution_count": null,
      "outputs": []
    },
    {
      "cell_type": "code",
      "execution_count": null,
      "metadata": {
        "id": "fWGVACj88UpK"
      },
      "outputs": [],
      "source": [
        "# X_train = X_train.reshape(X_train.shape[0], 28, 28, 1)\n",
        "# X_test = X_test.reshape(X_test.shape[0], 28, 28, 1)"
      ]
    },
    {
      "cell_type": "code",
      "execution_count": null,
      "metadata": {
        "id": "pBlkDwFM-k5r"
      },
      "outputs": [],
      "source": [
        "# X_train = X_train.astype('float32')\n",
        "# X_test = X_test.astype('float32')\n",
        "\n",
        "# X_train /= 255\n",
        "# X_test /= 255"
      ]
    },
    {
      "cell_type": "code",
      "execution_count": null,
      "metadata": {
        "colab": {
          "base_uri": "https://localhost:8080/"
        },
        "id": "SG0mUwP1-uJx",
        "outputId": "009912e2-232e-4489-aa74-1a621668072e"
      },
      "outputs": [
        {
          "output_type": "stream",
          "name": "stdout",
          "text": [
            "X_train shape: (60000, 28, 28, 1)\n",
            "Images in X_train: 60000\n",
            "Images in X_test: 10000\n",
            "Max value in X_train: 1.0\n",
            "Min value in X_train: 0.0\n"
          ]
        }
      ],
      "source": [
        "# print(\"X_train shape:\", X_train.shape)\n",
        "# print(\"Images in X_train:\", X_train.shape[0])\n",
        "# print(\"Images in X_test:\", X_test.shape[0])\n",
        "# print(\"Max value in X_train:\", X_train.max())\n",
        "# print(\"Min value in X_train:\", X_train.min())"
      ]
    },
    {
      "cell_type": "code",
      "execution_count": null,
      "metadata": {
        "colab": {
          "base_uri": "https://localhost:8080/"
        },
        "id": "HA5X8LFh-0p7",
        "outputId": "800b2aed-b49b-4521-c6ad-1780113e93ea"
      },
      "outputs": [
        {
          "output_type": "stream",
          "name": "stdout",
          "text": [
            "Shape of y_train: (60000, 10)\n",
            "One value of y_train: [0. 0. 0. 0. 0. 1. 0. 0. 0. 0.]\n"
          ]
        }
      ],
      "source": [
        "# from tensorflow.keras.utils import to_categorical\n",
        "\n",
        "# y_train = to_categorical(y_train, num_classes=10)\n",
        "# y_test = to_categorical(y_test, num_classes=10)\n",
        "\n",
        "# print(\"Shape of y_train:\", y_train.shape)\n",
        "# print(\"One value of y_train:\", y_train[0])"
      ]
    },
    {
      "cell_type": "code",
      "execution_count": null,
      "metadata": {
        "id": "smW9gPRX_xFB"
      },
      "outputs": [],
      "source": [
        "import matplotlib.pyplot as plt\n",
        "import seaborn as sns\n",
        "\n",
        "import keras\n",
        "from keras.models import Sequential\n",
        "from keras.layers import Dense, Conv2D , MaxPool2D , Flatten , Dropout \n",
        "from keras.preprocessing.image import ImageDataGenerator\n",
        "from tensorflow.keras.optimizers import Adadelta,Adagrad,Adam,RMSprop,SGD\n",
        "\n",
        "from sklearn.metrics import classification_report,confusion_matrix\n",
        "from tensorflow.keras.layers import Conv2D"
      ]
    },
    {
      "cell_type": "markdown",
      "metadata": {
        "id": "BDr7f5p4azQw"
      },
      "source": [
        "## CUSTOM MODEL 1"
      ]
    },
    {
      "cell_type": "code",
      "execution_count": null,
      "metadata": {
        "id": "ielW9Oe4_NRL"
      },
      "outputs": [],
      "source": [
        "def build_model(optimizer):\n",
        "  model = Sequential()\n",
        "  model.add(Conv2D(filters=32, kernel_size=3, activation=\"relu\", input_shape=(28,28,1)))\n",
        "  model.add(Conv2D(filters=32, kernel_size=3, activation=\"relu\"))\n",
        "  model.add(Flatten())\n",
        "  model.add(Dense(128, activation=\"relu\"))\n",
        "  model.add(Dense(10, activation=\"softmax\"))\n",
        "  model.compile(loss=\"categorical_crossentropy\", metrics=[\"accuracy\"], optimizer=optimizer)\n",
        "  return model"
      ]
    },
    {
      "cell_type": "code",
      "source": [
        "optimizers = ['SGD','Adagrad','Adadelta', 'RMSprop', 'Adam']\n",
        "\n",
        "for i in optimizers:\n",
        "\n",
        "  print('\\n=================== Running with {0} Optimizer ====================\\n'.format(i))\n",
        "  model = build_model(i)\n",
        "  hist=model.fit(X_train, y_train, batch_size=32, epochs=10, verbose=1, validation_split = 0.3)\n",
        "  m1=model.evaluate(X_test, y_test)\n",
        "\n",
        "  print('\\n Model test accuracy with {0} optimizer is {1:.2%} \\n'.format(i,m1[1]))"
      ],
      "metadata": {
        "colab": {
          "base_uri": "https://localhost:8080/"
        },
        "id": "VmOVZDk22JlK",
        "outputId": "a73dae5c-879d-4604-e6b6-463b3aad8aeb"
      },
      "execution_count": null,
      "outputs": [
        {
          "output_type": "stream",
          "name": "stdout",
          "text": [
            "\n",
            "=================== Running with SGD Optimizer ====================\n",
            "\n",
            "Epoch 1/10\n",
            "1313/1313 [==============================] - 6s 5ms/step - loss: 0.3985 - accuracy: 0.8851 - val_loss: 0.2837 - val_accuracy: 0.9069\n",
            "Epoch 2/10\n",
            "1313/1313 [==============================] - 6s 4ms/step - loss: 0.1657 - accuracy: 0.9500 - val_loss: 0.1636 - val_accuracy: 0.9498\n",
            "Epoch 3/10\n",
            "1313/1313 [==============================] - 6s 4ms/step - loss: 0.1208 - accuracy: 0.9636 - val_loss: 0.1434 - val_accuracy: 0.9563\n",
            "Epoch 4/10\n",
            "1313/1313 [==============================] - 6s 4ms/step - loss: 0.0972 - accuracy: 0.9699 - val_loss: 0.1304 - val_accuracy: 0.9618\n",
            "Epoch 5/10\n",
            "1313/1313 [==============================] - 7s 5ms/step - loss: 0.0806 - accuracy: 0.9756 - val_loss: 0.1004 - val_accuracy: 0.9706\n",
            "Epoch 6/10\n",
            "1313/1313 [==============================] - 6s 4ms/step - loss: 0.0681 - accuracy: 0.9793 - val_loss: 0.0997 - val_accuracy: 0.9709\n",
            "Epoch 7/10\n",
            "1313/1313 [==============================] - 6s 4ms/step - loss: 0.0599 - accuracy: 0.9808 - val_loss: 0.0929 - val_accuracy: 0.9733\n",
            "Epoch 8/10\n",
            "1313/1313 [==============================] - 6s 4ms/step - loss: 0.0516 - accuracy: 0.9845 - val_loss: 0.0930 - val_accuracy: 0.9732\n",
            "Epoch 9/10\n",
            "1313/1313 [==============================] - 6s 4ms/step - loss: 0.0445 - accuracy: 0.9859 - val_loss: 0.0886 - val_accuracy: 0.9749\n",
            "Epoch 10/10\n",
            "1313/1313 [==============================] - 6s 4ms/step - loss: 0.0390 - accuracy: 0.9879 - val_loss: 0.0851 - val_accuracy: 0.9759\n",
            "313/313 [==============================] - 1s 3ms/step - loss: 0.0679 - accuracy: 0.9786\n",
            "\n",
            " Model test accuracy with SGD optimizer is 97.86% \n",
            "\n",
            "\n",
            "=================== Running with Adagrad Optimizer ====================\n",
            "\n",
            "Epoch 1/10\n",
            "1313/1313 [==============================] - 6s 5ms/step - loss: 0.7381 - accuracy: 0.8088 - val_loss: 0.3212 - val_accuracy: 0.9077\n",
            "Epoch 2/10\n",
            "1313/1313 [==============================] - 6s 5ms/step - loss: 0.2970 - accuracy: 0.9144 - val_loss: 0.2701 - val_accuracy: 0.9214\n",
            "Epoch 3/10\n",
            "1313/1313 [==============================] - 6s 5ms/step - loss: 0.2489 - accuracy: 0.9273 - val_loss: 0.2349 - val_accuracy: 0.9317\n",
            "Epoch 4/10\n",
            "1313/1313 [==============================] - 6s 5ms/step - loss: 0.2168 - accuracy: 0.9372 - val_loss: 0.2156 - val_accuracy: 0.9372\n",
            "Epoch 5/10\n",
            "1313/1313 [==============================] - 6s 4ms/step - loss: 0.1931 - accuracy: 0.9436 - val_loss: 0.1915 - val_accuracy: 0.9452\n",
            "Epoch 6/10\n",
            "1313/1313 [==============================] - 6s 5ms/step - loss: 0.1735 - accuracy: 0.9494 - val_loss: 0.1788 - val_accuracy: 0.9487\n",
            "Epoch 7/10\n",
            "1313/1313 [==============================] - 6s 5ms/step - loss: 0.1579 - accuracy: 0.9531 - val_loss: 0.1714 - val_accuracy: 0.9506\n",
            "Epoch 8/10\n",
            "1313/1313 [==============================] - 6s 5ms/step - loss: 0.1455 - accuracy: 0.9574 - val_loss: 0.1561 - val_accuracy: 0.9542\n",
            "Epoch 9/10\n",
            "1313/1313 [==============================] - 6s 5ms/step - loss: 0.1347 - accuracy: 0.9612 - val_loss: 0.1475 - val_accuracy: 0.9573\n",
            "Epoch 10/10\n",
            "1313/1313 [==============================] - 6s 5ms/step - loss: 0.1259 - accuracy: 0.9639 - val_loss: 0.1421 - val_accuracy: 0.9591\n",
            "313/313 [==============================] - 1s 3ms/step - loss: 0.1253 - accuracy: 0.9630\n",
            "\n",
            " Model test accuracy with Adagrad optimizer is 96.30% \n",
            "\n",
            "\n",
            "=================== Running with Adadelta Optimizer ====================\n",
            "\n",
            "Epoch 1/10\n",
            "1313/1313 [==============================] - 7s 5ms/step - loss: 2.1653 - accuracy: 0.4253 - val_loss: 1.9370 - val_accuracy: 0.6576\n",
            "Epoch 2/10\n",
            "1313/1313 [==============================] - 6s 5ms/step - loss: 1.4988 - accuracy: 0.7396 - val_loss: 1.0325 - val_accuracy: 0.8056\n",
            "Epoch 3/10\n",
            "1313/1313 [==============================] - 6s 5ms/step - loss: 0.7972 - accuracy: 0.8269 - val_loss: 0.6094 - val_accuracy: 0.8591\n",
            "Epoch 4/10\n",
            "1313/1313 [==============================] - 6s 5ms/step - loss: 0.5542 - accuracy: 0.8628 - val_loss: 0.4782 - val_accuracy: 0.8756\n",
            "Epoch 5/10\n",
            "1313/1313 [==============================] - 6s 5ms/step - loss: 0.4643 - accuracy: 0.8772 - val_loss: 0.4192 - val_accuracy: 0.8862\n",
            "Epoch 6/10\n",
            "1313/1313 [==============================] - 6s 5ms/step - loss: 0.4180 - accuracy: 0.8852 - val_loss: 0.3862 - val_accuracy: 0.8931\n",
            "Epoch 7/10\n",
            "1313/1313 [==============================] - 6s 5ms/step - loss: 0.3891 - accuracy: 0.8920 - val_loss: 0.3643 - val_accuracy: 0.8976\n",
            "Epoch 8/10\n",
            "1313/1313 [==============================] - 6s 5ms/step - loss: 0.3688 - accuracy: 0.8959 - val_loss: 0.3485 - val_accuracy: 0.9014\n",
            "Epoch 9/10\n",
            "1313/1313 [==============================] - 6s 5ms/step - loss: 0.3534 - accuracy: 0.8996 - val_loss: 0.3364 - val_accuracy: 0.9035\n",
            "Epoch 10/10\n",
            "1313/1313 [==============================] - 6s 5ms/step - loss: 0.3412 - accuracy: 0.9026 - val_loss: 0.3263 - val_accuracy: 0.9070\n",
            "313/313 [==============================] - 1s 3ms/step - loss: 0.3159 - accuracy: 0.9105\n",
            "\n",
            " Model test accuracy with Adadelta optimizer is 91.05% \n",
            "\n",
            "\n",
            "=================== Running with RMSprop Optimizer ====================\n",
            "\n",
            "Epoch 1/10\n",
            "1313/1313 [==============================] - 8s 6ms/step - loss: 0.1343 - accuracy: 0.9591 - val_loss: 0.0711 - val_accuracy: 0.9782\n",
            "Epoch 2/10\n",
            "1313/1313 [==============================] - 7s 5ms/step - loss: 0.0450 - accuracy: 0.9862 - val_loss: 0.0593 - val_accuracy: 0.9838\n",
            "Epoch 3/10\n",
            "1313/1313 [==============================] - 7s 5ms/step - loss: 0.0306 - accuracy: 0.9912 - val_loss: 0.0568 - val_accuracy: 0.9848\n",
            "Epoch 4/10\n",
            "1313/1313 [==============================] - 7s 5ms/step - loss: 0.0207 - accuracy: 0.9940 - val_loss: 0.0663 - val_accuracy: 0.9830\n",
            "Epoch 5/10\n",
            "1313/1313 [==============================] - 7s 5ms/step - loss: 0.0144 - accuracy: 0.9960 - val_loss: 0.0565 - val_accuracy: 0.9873\n",
            "Epoch 6/10\n",
            "1313/1313 [==============================] - 7s 5ms/step - loss: 0.0095 - accuracy: 0.9972 - val_loss: 0.0880 - val_accuracy: 0.9856\n",
            "Epoch 7/10\n",
            "1313/1313 [==============================] - 7s 5ms/step - loss: 0.0064 - accuracy: 0.9981 - val_loss: 0.0928 - val_accuracy: 0.9869\n",
            "Epoch 8/10\n",
            "1313/1313 [==============================] - 7s 5ms/step - loss: 0.0048 - accuracy: 0.9988 - val_loss: 0.1013 - val_accuracy: 0.9863\n",
            "Epoch 9/10\n",
            "1313/1313 [==============================] - 7s 5ms/step - loss: 0.0023 - accuracy: 0.9994 - val_loss: 0.1361 - val_accuracy: 0.9854\n",
            "Epoch 10/10\n",
            "1313/1313 [==============================] - 7s 5ms/step - loss: 0.0021 - accuracy: 0.9995 - val_loss: 0.1343 - val_accuracy: 0.9868\n",
            "313/313 [==============================] - 1s 2ms/step - loss: 0.1082 - accuracy: 0.9872\n",
            "\n",
            " Model test accuracy with RMSprop optimizer is 98.72% \n",
            "\n",
            "\n",
            "=================== Running with Adam Optimizer ====================\n",
            "\n",
            "Epoch 1/10\n",
            "1313/1313 [==============================] - 7s 5ms/step - loss: 0.1403 - accuracy: 0.9573 - val_loss: 0.0659 - val_accuracy: 0.9797\n",
            "Epoch 2/10\n",
            "1313/1313 [==============================] - 6s 5ms/step - loss: 0.0411 - accuracy: 0.9866 - val_loss: 0.0660 - val_accuracy: 0.9823\n",
            "Epoch 3/10\n",
            "1313/1313 [==============================] - 6s 5ms/step - loss: 0.0243 - accuracy: 0.9920 - val_loss: 0.0532 - val_accuracy: 0.9846\n",
            "Epoch 4/10\n",
            "1313/1313 [==============================] - 6s 5ms/step - loss: 0.0165 - accuracy: 0.9945 - val_loss: 0.0609 - val_accuracy: 0.9838\n",
            "Epoch 5/10\n",
            "1313/1313 [==============================] - 6s 5ms/step - loss: 0.0109 - accuracy: 0.9958 - val_loss: 0.0729 - val_accuracy: 0.9821\n",
            "Epoch 6/10\n",
            "1313/1313 [==============================] - 6s 5ms/step - loss: 0.0100 - accuracy: 0.9971 - val_loss: 0.0872 - val_accuracy: 0.9819\n",
            "Epoch 7/10\n",
            "1313/1313 [==============================] - 6s 5ms/step - loss: 0.0068 - accuracy: 0.9980 - val_loss: 0.0858 - val_accuracy: 0.9829\n",
            "Epoch 8/10\n",
            "1313/1313 [==============================] - 6s 5ms/step - loss: 0.0061 - accuracy: 0.9980 - val_loss: 0.0823 - val_accuracy: 0.9848\n",
            "Epoch 9/10\n",
            "1313/1313 [==============================] - 6s 5ms/step - loss: 0.0049 - accuracy: 0.9984 - val_loss: 0.0755 - val_accuracy: 0.9854\n",
            "Epoch 10/10\n",
            "1313/1313 [==============================] - 6s 5ms/step - loss: 0.0041 - accuracy: 0.9987 - val_loss: 0.0806 - val_accuracy: 0.9849\n",
            "313/313 [==============================] - 1s 3ms/step - loss: 0.0617 - accuracy: 0.9860\n",
            "\n",
            " Model test accuracy with Adam optimizer is 98.60% \n",
            "\n"
          ]
        }
      ]
    },
    {
      "cell_type": "markdown",
      "metadata": {
        "id": "Kerv6fCRajlu"
      },
      "source": [
        "## CUSTOM MODEL 2"
      ]
    },
    {
      "cell_type": "code",
      "execution_count": null,
      "metadata": {
        "id": "vim4H5pRNcwa"
      },
      "outputs": [],
      "source": [
        "def build_model1(optimizer):\n",
        "  model=Sequential()\n",
        "  model.add(layers.Conv2D(32,(3,3),padding='same',activation='relu',input_shape=(28, 28, 1)))\n",
        "  model.add(layers.Conv2D(64,(3,3),padding='same',activation='relu'))\n",
        "  model.add(layers.MaxPool2D())\n",
        "  model.add(layers.Dropout(0.25))\n",
        "  model.add(layers.Conv2D(64,(3,3),padding='same',activation='relu'))\n",
        "  model.add(layers.MaxPool2D())\n",
        "  model.add(layers.Dropout(0.5))\n",
        "  model.add(layers.Conv2D(128,(3,3),padding='same',activation='relu'))\n",
        "  model.add(layers.MaxPool2D())\n",
        "  model.add(layers.Dropout(0.5))\n",
        "  model.add(layers.Flatten())\n",
        "  model.add(layers.Dense(512,activation='relu'))\n",
        "  model.add(layers.Dense(10,activation='softmax'))\n",
        "  model.compile(loss=\"categorical_crossentropy\", metrics=[\"accuracy\"], optimizer=optimizer)\n",
        "  return model"
      ]
    },
    {
      "cell_type": "code",
      "source": [
        "optimizers = ['SGD','Adagrad','Adadelta', 'RMSprop', 'Adam']\n",
        "\n",
        "for i in optimizers:\n",
        "\n",
        "  print('\\n=================== Running with {0} Optimizer ====================\\n'.format(i))\n",
        "  model = build_model1(i)\n",
        "  hist=model.fit(X_train, y_train, batch_size=32, epochs=10, verbose=1, validation_split = 0.3)\n",
        "  m1=model.evaluate(X_test, y_test)\n",
        "\n",
        "  print('\\n Model test accuracy with {0} optimizer is {1:.2%} \\n'.format(i,m1[1]))"
      ],
      "metadata": {
        "colab": {
          "base_uri": "https://localhost:8080/"
        },
        "id": "D_Cup07mCBfn",
        "outputId": "ce194e31-1a24-468c-953d-b197648ea6ac"
      },
      "execution_count": null,
      "outputs": [
        {
          "output_type": "stream",
          "name": "stdout",
          "text": [
            "\n",
            "=================== Running with SGD Optimizer ====================\n",
            "\n",
            "Epoch 1/10\n",
            "1313/1313 [==============================] - 22s 7ms/step - loss: 1.2994 - accuracy: 0.5436 - val_loss: 0.2679 - val_accuracy: 0.9320\n",
            "Epoch 2/10\n",
            "1313/1313 [==============================] - 8s 6ms/step - loss: 0.3415 - accuracy: 0.8923 - val_loss: 0.1459 - val_accuracy: 0.9578\n",
            "Epoch 3/10\n",
            "1313/1313 [==============================] - 8s 6ms/step - loss: 0.2292 - accuracy: 0.9292 - val_loss: 0.1096 - val_accuracy: 0.9691\n",
            "Epoch 4/10\n",
            "1313/1313 [==============================] - 8s 6ms/step - loss: 0.1817 - accuracy: 0.9420 - val_loss: 0.0904 - val_accuracy: 0.9727\n",
            "Epoch 5/10\n",
            "1313/1313 [==============================] - 8s 6ms/step - loss: 0.1552 - accuracy: 0.9514 - val_loss: 0.0784 - val_accuracy: 0.9759\n",
            "Epoch 6/10\n",
            "1313/1313 [==============================] - 8s 6ms/step - loss: 0.1332 - accuracy: 0.9580 - val_loss: 0.0800 - val_accuracy: 0.9748\n",
            "Epoch 7/10\n",
            "1313/1313 [==============================] - 9s 7ms/step - loss: 0.1238 - accuracy: 0.9613 - val_loss: 0.0653 - val_accuracy: 0.9806\n",
            "Epoch 8/10\n",
            "1313/1313 [==============================] - 8s 6ms/step - loss: 0.1164 - accuracy: 0.9632 - val_loss: 0.0618 - val_accuracy: 0.9806\n",
            "Epoch 9/10\n",
            "1313/1313 [==============================] - 9s 7ms/step - loss: 0.1082 - accuracy: 0.9657 - val_loss: 0.0602 - val_accuracy: 0.9811\n",
            "Epoch 10/10\n",
            "1313/1313 [==============================] - 9s 7ms/step - loss: 0.1012 - accuracy: 0.9680 - val_loss: 0.0555 - val_accuracy: 0.9819\n",
            "313/313 [==============================] - 1s 3ms/step - loss: 0.0419 - accuracy: 0.9868\n",
            "\n",
            " Model test accuracy with SGD optimizer is 98.68% \n",
            "\n",
            "\n",
            "=================== Running with Adagrad Optimizer ====================\n",
            "\n",
            "Epoch 1/10\n",
            "1313/1313 [==============================] - 10s 7ms/step - loss: 2.2169 - accuracy: 0.1936 - val_loss: 1.7992 - val_accuracy: 0.6267\n",
            "Epoch 2/10\n",
            "1313/1313 [==============================] - 9s 7ms/step - loss: 1.3648 - accuracy: 0.5320 - val_loss: 0.7106 - val_accuracy: 0.8259\n",
            "Epoch 3/10\n",
            "1313/1313 [==============================] - 9s 7ms/step - loss: 0.8020 - accuracy: 0.7325 - val_loss: 0.3963 - val_accuracy: 0.9046\n",
            "Epoch 4/10\n",
            "1313/1313 [==============================] - 8s 6ms/step - loss: 0.5523 - accuracy: 0.8245 - val_loss: 0.2804 - val_accuracy: 0.9297\n",
            "Epoch 5/10\n",
            "1313/1313 [==============================] - 8s 6ms/step - loss: 0.4373 - accuracy: 0.8616 - val_loss: 0.2297 - val_accuracy: 0.9379\n",
            "Epoch 6/10\n",
            "1313/1313 [==============================] - 9s 7ms/step - loss: 0.3703 - accuracy: 0.8861 - val_loss: 0.1998 - val_accuracy: 0.9424\n",
            "Epoch 7/10\n",
            "1313/1313 [==============================] - 8s 6ms/step - loss: 0.3269 - accuracy: 0.8995 - val_loss: 0.1814 - val_accuracy: 0.9478\n",
            "Epoch 8/10\n",
            "1313/1313 [==============================] - 8s 6ms/step - loss: 0.3013 - accuracy: 0.9067 - val_loss: 0.1670 - val_accuracy: 0.9525\n",
            "Epoch 9/10\n",
            "1313/1313 [==============================] - 9s 7ms/step - loss: 0.2799 - accuracy: 0.9136 - val_loss: 0.1569 - val_accuracy: 0.9554\n",
            "Epoch 10/10\n",
            "1313/1313 [==============================] - 9s 7ms/step - loss: 0.2602 - accuracy: 0.9202 - val_loss: 0.1495 - val_accuracy: 0.9564\n",
            "313/313 [==============================] - 1s 3ms/step - loss: 0.1363 - accuracy: 0.9585\n",
            "\n",
            " Model test accuracy with Adagrad optimizer is 95.85% \n",
            "\n",
            "\n",
            "=================== Running with Adadelta Optimizer ====================\n",
            "\n",
            "Epoch 1/10\n",
            "1313/1313 [==============================] - 10s 7ms/step - loss: 2.3031 - accuracy: 0.1046 - val_loss: 2.2950 - val_accuracy: 0.1297\n",
            "Epoch 2/10\n",
            "1313/1313 [==============================] - 8s 6ms/step - loss: 2.2930 - accuracy: 0.1219 - val_loss: 2.2864 - val_accuracy: 0.1527\n",
            "Epoch 3/10\n",
            "1313/1313 [==============================] - 10s 7ms/step - loss: 2.2821 - accuracy: 0.1415 - val_loss: 2.2762 - val_accuracy: 0.1787\n",
            "Epoch 4/10\n",
            "1313/1313 [==============================] - 9s 7ms/step - loss: 2.2699 - accuracy: 0.1640 - val_loss: 2.2629 - val_accuracy: 0.2322\n",
            "Epoch 5/10\n",
            "1313/1313 [==============================] - 10s 7ms/step - loss: 2.2545 - accuracy: 0.1885 - val_loss: 2.2449 - val_accuracy: 0.3144\n",
            "Epoch 6/10\n",
            "1313/1313 [==============================] - 10s 7ms/step - loss: 2.2356 - accuracy: 0.2138 - val_loss: 2.2201 - val_accuracy: 0.3808\n",
            "Epoch 7/10\n",
            "1313/1313 [==============================] - 10s 7ms/step - loss: 2.2056 - accuracy: 0.2524 - val_loss: 2.1840 - val_accuracy: 0.4363\n",
            "Epoch 8/10\n",
            "1313/1313 [==============================] - 10s 7ms/step - loss: 2.1692 - accuracy: 0.2808 - val_loss: 2.1332 - val_accuracy: 0.4775\n",
            "Epoch 9/10\n",
            "1313/1313 [==============================] - 9s 6ms/step - loss: 2.1163 - accuracy: 0.3101 - val_loss: 2.0627 - val_accuracy: 0.5158\n",
            "Epoch 10/10\n",
            "1313/1313 [==============================] - 8s 6ms/step - loss: 2.0455 - accuracy: 0.3402 - val_loss: 1.9677 - val_accuracy: 0.5500\n",
            "313/313 [==============================] - 1s 4ms/step - loss: 1.9619 - accuracy: 0.5613\n",
            "\n",
            " Model test accuracy with Adadelta optimizer is 56.13% \n",
            "\n",
            "\n",
            "=================== Running with RMSprop Optimizer ====================\n",
            "\n",
            "Epoch 1/10\n",
            "1313/1313 [==============================] - 12s 8ms/step - loss: 0.2641 - accuracy: 0.9152 - val_loss: 0.0725 - val_accuracy: 0.9767\n",
            "Epoch 2/10\n",
            "1313/1313 [==============================] - 9s 7ms/step - loss: 0.1038 - accuracy: 0.9690 - val_loss: 0.0481 - val_accuracy: 0.9856\n",
            "Epoch 3/10\n",
            "1313/1313 [==============================] - 9s 7ms/step - loss: 0.0894 - accuracy: 0.9739 - val_loss: 0.0504 - val_accuracy: 0.9851\n",
            "Epoch 4/10\n",
            "1313/1313 [==============================] - 9s 7ms/step - loss: 0.0847 - accuracy: 0.9763 - val_loss: 0.0782 - val_accuracy: 0.9846\n",
            "Epoch 5/10\n",
            "1313/1313 [==============================] - 9s 7ms/step - loss: 0.0874 - accuracy: 0.9766 - val_loss: 0.0548 - val_accuracy: 0.9849\n",
            "Epoch 6/10\n",
            "1313/1313 [==============================] - 9s 7ms/step - loss: 0.0879 - accuracy: 0.9771 - val_loss: 0.0373 - val_accuracy: 0.9902\n",
            "Epoch 7/10\n",
            "1313/1313 [==============================] - 9s 7ms/step - loss: 0.0942 - accuracy: 0.9758 - val_loss: 0.0377 - val_accuracy: 0.9892\n",
            "Epoch 8/10\n",
            "1313/1313 [==============================] - 9s 7ms/step - loss: 0.0935 - accuracy: 0.9766 - val_loss: 0.0397 - val_accuracy: 0.9896\n",
            "Epoch 9/10\n",
            "1313/1313 [==============================] - 10s 8ms/step - loss: 0.0968 - accuracy: 0.9760 - val_loss: 0.0622 - val_accuracy: 0.9836\n",
            "Epoch 10/10\n",
            "1313/1313 [==============================] - 10s 8ms/step - loss: 0.0998 - accuracy: 0.9753 - val_loss: 0.1167 - val_accuracy: 0.9831\n",
            "313/313 [==============================] - 1s 3ms/step - loss: 0.0721 - accuracy: 0.9833\n",
            "\n",
            " Model test accuracy with RMSprop optimizer is 98.33% \n",
            "\n",
            "\n",
            "=================== Running with Adam Optimizer ====================\n",
            "\n",
            "Epoch 1/10\n",
            "1313/1313 [==============================] - 9s 6ms/step - loss: 0.2574 - accuracy: 0.9167 - val_loss: 0.0601 - val_accuracy: 0.9817\n",
            "Epoch 2/10\n",
            "1313/1313 [==============================] - 9s 7ms/step - loss: 0.0936 - accuracy: 0.9710 - val_loss: 0.0494 - val_accuracy: 0.9842\n",
            "Epoch 3/10\n",
            "1313/1313 [==============================] - 9s 7ms/step - loss: 0.0770 - accuracy: 0.9766 - val_loss: 0.0421 - val_accuracy: 0.9874\n",
            "Epoch 4/10\n",
            "1313/1313 [==============================] - 8s 6ms/step - loss: 0.0645 - accuracy: 0.9804 - val_loss: 0.0392 - val_accuracy: 0.9881\n",
            "Epoch 5/10\n",
            "1313/1313 [==============================] - 9s 7ms/step - loss: 0.0579 - accuracy: 0.9810 - val_loss: 0.0332 - val_accuracy: 0.9903\n",
            "Epoch 6/10\n",
            "1313/1313 [==============================] - 9s 7ms/step - loss: 0.0512 - accuracy: 0.9835 - val_loss: 0.0397 - val_accuracy: 0.9883\n",
            "Epoch 7/10\n",
            "1313/1313 [==============================] - 8s 6ms/step - loss: 0.0484 - accuracy: 0.9845 - val_loss: 0.0316 - val_accuracy: 0.9908\n",
            "Epoch 8/10\n",
            "1313/1313 [==============================] - 8s 6ms/step - loss: 0.0464 - accuracy: 0.9850 - val_loss: 0.0406 - val_accuracy: 0.9888\n",
            "Epoch 9/10\n",
            "1313/1313 [==============================] - 8s 6ms/step - loss: 0.0453 - accuracy: 0.9866 - val_loss: 0.0265 - val_accuracy: 0.9921\n",
            "Epoch 10/10\n",
            "1313/1313 [==============================] - 8s 6ms/step - loss: 0.0426 - accuracy: 0.9865 - val_loss: 0.0298 - val_accuracy: 0.9917\n",
            "313/313 [==============================] - 1s 3ms/step - loss: 0.0236 - accuracy: 0.9926\n",
            "\n",
            " Model test accuracy with Adam optimizer is 99.26% \n",
            "\n"
          ]
        }
      ]
    },
    {
      "cell_type": "markdown",
      "metadata": {
        "id": "cypgeLCUad2A"
      },
      "source": [
        "## VGG19"
      ]
    },
    {
      "cell_type": "code",
      "execution_count": null,
      "metadata": {
        "colab": {
          "base_uri": "https://localhost:8080/"
        },
        "id": "qrGA7uMIiflY",
        "outputId": "660fa460-d1da-4bd0-96e8-bde3f91301df"
      },
      "outputs": [
        {
          "output_type": "execute_result",
          "data": {
            "text/plain": [
              "((60000, 28, 84, 1), (10000, 28, 84, 1))"
            ]
          },
          "metadata": {},
          "execution_count": 8
        }
      ],
      "source": [
        "# Convert the images into 3 channels as MNIST images are Black and White so have 1 channel\n",
        "\n",
        "X_train=np.dstack([X_train] * 3)\n",
        "X_test=np.dstack([X_test]*3)\n",
        "X_train.shape,X_test.shape"
      ]
    },
    {
      "cell_type": "code",
      "execution_count": null,
      "metadata": {
        "colab": {
          "base_uri": "https://localhost:8080/"
        },
        "id": "oeCQo3XvifoC",
        "outputId": "7193b895-2574-419d-f793-e1815f51e48e"
      },
      "outputs": [
        {
          "output_type": "execute_result",
          "data": {
            "text/plain": [
              "((60000, 28, 28, 3), (10000, 28, 28, 3))"
            ]
          },
          "metadata": {},
          "execution_count": 9
        }
      ],
      "source": [
        "# Reshape images as per the tensor format required by tensorflow\n",
        "\n",
        "X_train = X_train.reshape(-1, 28,28,3)\n",
        "X_test= X_test.reshape (-1,28,28,3)\n",
        "X_train.shape,X_test.shape"
      ]
    },
    {
      "cell_type": "code",
      "execution_count": null,
      "metadata": {
        "colab": {
          "base_uri": "https://localhost:8080/"
        },
        "id": "HF7XYXoSifqh",
        "outputId": "3b72a277-b7b5-440f-8aa0-5fabe160d01c"
      },
      "outputs": [
        {
          "output_type": "execute_result",
          "data": {
            "text/plain": [
              "((60000, 48, 48, 3), (10000, 48, 48, 3))"
            ]
          },
          "metadata": {},
          "execution_count": 10
        }
      ],
      "source": [
        "# Resize the images 48*48 as required by VGG16\n",
        "\n",
        "from keras.preprocessing.image import img_to_array, array_to_img\n",
        "\n",
        "X_train = np.asarray([img_to_array(array_to_img(im, scale=False).resize((48,48))) for im in X_train])\n",
        "X_test = np.asarray([img_to_array(array_to_img(im, scale=False).resize((48,48))) for im in X_test])\n",
        "#train_x = preprocess_input(x)\n",
        "X_train.shape, X_test.shape"
      ]
    },
    {
      "cell_type": "code",
      "execution_count": null,
      "metadata": {
        "colab": {
          "base_uri": "https://localhost:8080/"
        },
        "id": "HHWzsdP0h-kz",
        "outputId": "8666a0cf-b0ca-477e-e115-8fa4101b1b2e"
      },
      "outputs": [
        {
          "output_type": "stream",
          "name": "stdout",
          "text": [
            "Downloading data from https://storage.googleapis.com/tensorflow/keras-applications/vgg19/vgg19_weights_tf_dim_ordering_tf_kernels_notop.h5\n",
            "80142336/80134624 [==============================] - 1s 0us/step\n",
            "80150528/80134624 [==============================] - 1s 0us/step\n",
            "Model: \"vgg19\"\n",
            "_________________________________________________________________\n",
            " Layer (type)                Output Shape              Param #   \n",
            "=================================================================\n",
            " input_1 (InputLayer)        [(None, 32, 32, 3)]       0         \n",
            "                                                                 \n",
            " block1_conv1 (Conv2D)       (None, 32, 32, 64)        1792      \n",
            "                                                                 \n",
            " block1_conv2 (Conv2D)       (None, 32, 32, 64)        36928     \n",
            "                                                                 \n",
            " block1_pool (MaxPooling2D)  (None, 16, 16, 64)        0         \n",
            "                                                                 \n",
            " block2_conv1 (Conv2D)       (None, 16, 16, 128)       73856     \n",
            "                                                                 \n",
            " block2_conv2 (Conv2D)       (None, 16, 16, 128)       147584    \n",
            "                                                                 \n",
            " block2_pool (MaxPooling2D)  (None, 8, 8, 128)         0         \n",
            "                                                                 \n",
            " block3_conv1 (Conv2D)       (None, 8, 8, 256)         295168    \n",
            "                                                                 \n",
            " block3_conv2 (Conv2D)       (None, 8, 8, 256)         590080    \n",
            "                                                                 \n",
            " block3_conv3 (Conv2D)       (None, 8, 8, 256)         590080    \n",
            "                                                                 \n",
            " block3_conv4 (Conv2D)       (None, 8, 8, 256)         590080    \n",
            "                                                                 \n",
            " block3_pool (MaxPooling2D)  (None, 4, 4, 256)         0         \n",
            "                                                                 \n",
            " block4_conv1 (Conv2D)       (None, 4, 4, 512)         1180160   \n",
            "                                                                 \n",
            " block4_conv2 (Conv2D)       (None, 4, 4, 512)         2359808   \n",
            "                                                                 \n",
            " block4_conv3 (Conv2D)       (None, 4, 4, 512)         2359808   \n",
            "                                                                 \n",
            " block4_conv4 (Conv2D)       (None, 4, 4, 512)         2359808   \n",
            "                                                                 \n",
            " block4_pool (MaxPooling2D)  (None, 2, 2, 512)         0         \n",
            "                                                                 \n",
            " block5_conv1 (Conv2D)       (None, 2, 2, 512)         2359808   \n",
            "                                                                 \n",
            " block5_conv2 (Conv2D)       (None, 2, 2, 512)         2359808   \n",
            "                                                                 \n",
            " block5_conv3 (Conv2D)       (None, 2, 2, 512)         2359808   \n",
            "                                                                 \n",
            " block5_conv4 (Conv2D)       (None, 2, 2, 512)         2359808   \n",
            "                                                                 \n",
            " block5_pool (MaxPooling2D)  (None, 1, 1, 512)         0         \n",
            "                                                                 \n",
            "=================================================================\n",
            "Total params: 20,024,384\n",
            "Trainable params: 20,024,384\n",
            "Non-trainable params: 0\n",
            "_________________________________________________________________\n",
            "None\n"
          ]
        }
      ],
      "source": [
        "vgg19 = VGG19(include_top=False,input_shape=(32,32,3))\n",
        "print(vgg19.summary())"
      ]
    },
    {
      "cell_type": "code",
      "execution_count": null,
      "metadata": {
        "id": "cC5pWcdxlv82"
      },
      "outputs": [],
      "source": [
        "def ModelVGG19(optimizer):\n",
        "  modelvgg19=Sequential()\n",
        "  for layer in vgg19.layers:\n",
        "    modelvgg19.add(layer)\n",
        "\n",
        "  for layer in modelvgg19.layers:\n",
        "    layer.trainable=False\n",
        "\n",
        "  modelvgg19.add(Flatten())\n",
        "  modelvgg19.add(Dense(128))\n",
        "  modelvgg19.add(Dense(10,activation='softmax'))\n",
        "  modelvgg19.compile(loss=\"categorical_crossentropy\", metrics=[\"accuracy\"], optimizer=optimizer)\n",
        "  return modelvgg19\n",
        "\n"
      ]
    },
    {
      "cell_type": "code",
      "source": [
        "optimizers = ['SGD','Adagrad','Adadelta', 'RMSprop', 'Adam']\n",
        "\n",
        "for i in optimizers:\n",
        "\n",
        "  print('\\n=================== Running with {0} Optimizer ====================\\n'.format(i))\n",
        "  modelvgg19 = ModelVGG19(i)\n",
        "  hist=modelvgg19.fit(X_train, y_train, batch_size=32, epochs=5, verbose=1, validation_split = 0.3)\n",
        "  m1=modelvgg19.evaluate(X_test, y_test)\n",
        "\n",
        "  print('\\n Model test accuracy with {0} optimizer is {1:.2%} \\n'.format(i,m1[1]))"
      ],
      "metadata": {
        "colab": {
          "base_uri": "https://localhost:8080/"
        },
        "id": "FeX_Jx_ur3XY",
        "outputId": "ba3d84f4-7b86-487f-c716-c3ea4c20d049"
      },
      "execution_count": null,
      "outputs": [
        {
          "output_type": "stream",
          "name": "stdout",
          "text": [
            "\n",
            "=================== Running with SGD Optimizer ====================\n",
            "\n",
            "Epoch 1/5\n",
            "1313/1313 [==============================] - 23s 17ms/step - loss: 0.9206 - accuracy: 0.7462 - val_loss: 0.5429 - val_accuracy: 0.8614\n",
            "Epoch 2/5\n",
            "1313/1313 [==============================] - 22s 16ms/step - loss: 0.4479 - accuracy: 0.8790 - val_loss: 0.3720 - val_accuracy: 0.9004\n",
            "Epoch 3/5\n",
            "1313/1313 [==============================] - 22s 17ms/step - loss: 0.3343 - accuracy: 0.9087 - val_loss: 0.2947 - val_accuracy: 0.9210\n",
            "Epoch 4/5\n",
            "1313/1313 [==============================] - 22s 17ms/step - loss: 0.2783 - accuracy: 0.9219 - val_loss: 0.2569 - val_accuracy: 0.9293\n",
            "Epoch 5/5\n",
            "1313/1313 [==============================] - 22s 17ms/step - loss: 0.2438 - accuracy: 0.9306 - val_loss: 0.2283 - val_accuracy: 0.9350\n",
            "313/313 [==============================] - 4s 12ms/step - loss: 0.2222 - accuracy: 0.9353\n",
            "\n",
            " Model test accuracy with SGD optimizer is 93.53% \n",
            "\n",
            "\n",
            "=================== Running with Adagrad Optimizer ====================\n",
            "\n",
            "Epoch 1/5\n",
            "1313/1313 [==============================] - 23s 17ms/step - loss: 1.4541 - accuracy: 0.6363 - val_loss: 1.1127 - val_accuracy: 0.7407\n",
            "Epoch 2/5\n",
            "1313/1313 [==============================] - 22s 17ms/step - loss: 0.9805 - accuracy: 0.7716 - val_loss: 0.8756 - val_accuracy: 0.7955\n",
            "Epoch 3/5\n",
            "1313/1313 [==============================] - 22s 17ms/step - loss: 0.8106 - accuracy: 0.8073 - val_loss: 0.7540 - val_accuracy: 0.8246\n",
            "Epoch 4/5\n",
            "1313/1313 [==============================] - 22s 17ms/step - loss: 0.7129 - accuracy: 0.8306 - val_loss: 0.6762 - val_accuracy: 0.8399\n",
            "Epoch 5/5\n",
            "1313/1313 [==============================] - 22s 17ms/step - loss: 0.6468 - accuracy: 0.8455 - val_loss: 0.6197 - val_accuracy: 0.8516\n",
            "313/313 [==============================] - 4s 12ms/step - loss: 0.6141 - accuracy: 0.8519\n",
            "\n",
            " Model test accuracy with Adagrad optimizer is 85.19% \n",
            "\n",
            "\n",
            "=================== Running with Adadelta Optimizer ====================\n",
            "\n",
            "Epoch 1/5\n",
            "1313/1313 [==============================] - 23s 17ms/step - loss: 2.3815 - accuracy: 0.1524 - val_loss: 2.2576 - val_accuracy: 0.1693\n",
            "Epoch 2/5\n",
            "1313/1313 [==============================] - 22s 17ms/step - loss: 2.1702 - accuracy: 0.2314 - val_loss: 2.0894 - val_accuracy: 0.3196\n",
            "Epoch 3/5\n",
            "1313/1313 [==============================] - 22s 17ms/step - loss: 2.0276 - accuracy: 0.3794 - val_loss: 1.9649 - val_accuracy: 0.4452\n",
            "Epoch 4/5\n",
            "1313/1313 [==============================] - 26s 20ms/step - loss: 1.9159 - accuracy: 0.4794 - val_loss: 1.8626 - val_accuracy: 0.5218\n",
            "Epoch 5/5\n",
            "1313/1313 [==============================] - 22s 17ms/step - loss: 1.8216 - accuracy: 0.5403 - val_loss: 1.7741 - val_accuracy: 0.5702\n",
            "313/313 [==============================] - 4s 12ms/step - loss: 1.7805 - accuracy: 0.5723\n",
            "\n",
            " Model test accuracy with Adadelta optimizer is 57.23% \n",
            "\n",
            "\n",
            "=================== Running with RMSprop Optimizer ====================\n",
            "\n",
            "Epoch 1/5\n",
            "1313/1313 [==============================] - 23s 17ms/step - loss: 0.3058 - accuracy: 0.9085 - val_loss: 0.1478 - val_accuracy: 0.9543\n",
            "Epoch 2/5\n",
            "1313/1313 [==============================] - 22s 17ms/step - loss: 0.1517 - accuracy: 0.9505 - val_loss: 0.1291 - val_accuracy: 0.9591\n",
            "Epoch 3/5\n",
            "1313/1313 [==============================] - 23s 17ms/step - loss: 0.1315 - accuracy: 0.9573 - val_loss: 0.1488 - val_accuracy: 0.9521\n",
            "Epoch 4/5\n",
            "1313/1313 [==============================] - 22s 17ms/step - loss: 0.1215 - accuracy: 0.9614 - val_loss: 0.1505 - val_accuracy: 0.9517\n",
            "Epoch 5/5\n",
            "1313/1313 [==============================] - 26s 20ms/step - loss: 0.1135 - accuracy: 0.9625 - val_loss: 0.1839 - val_accuracy: 0.9449\n",
            "313/313 [==============================] - 4s 12ms/step - loss: 0.1738 - accuracy: 0.9459\n",
            "\n",
            " Model test accuracy with RMSprop optimizer is 94.59% \n",
            "\n",
            "\n",
            "=================== Running with Adam Optimizer ====================\n",
            "\n",
            "Epoch 1/5\n",
            "1313/1313 [==============================] - 23s 17ms/step - loss: 0.3122 - accuracy: 0.9093 - val_loss: 0.1637 - val_accuracy: 0.9481\n",
            "Epoch 2/5\n",
            "1313/1313 [==============================] - 26s 20ms/step - loss: 0.1425 - accuracy: 0.9543 - val_loss: 0.1375 - val_accuracy: 0.9554\n",
            "Epoch 3/5\n",
            "1313/1313 [==============================] - 26s 20ms/step - loss: 0.1229 - accuracy: 0.9598 - val_loss: 0.1505 - val_accuracy: 0.9522\n",
            "Epoch 4/5\n",
            "1313/1313 [==============================] - 22s 17ms/step - loss: 0.1118 - accuracy: 0.9644 - val_loss: 0.1123 - val_accuracy: 0.9643\n",
            "Epoch 5/5\n",
            "1313/1313 [==============================] - 22s 17ms/step - loss: 0.1030 - accuracy: 0.9670 - val_loss: 0.1114 - val_accuracy: 0.9645\n",
            "313/313 [==============================] - 4s 12ms/step - loss: 0.1124 - accuracy: 0.9636\n",
            "\n",
            " Model test accuracy with Adam optimizer is 96.36% \n",
            "\n"
          ]
        }
      ]
    },
    {
      "cell_type": "markdown",
      "metadata": {
        "id": "Dci6poUuaOCe"
      },
      "source": [
        "## VGG16"
      ]
    },
    {
      "cell_type": "code",
      "execution_count": null,
      "metadata": {
        "colab": {
          "base_uri": "https://localhost:8080/"
        },
        "id": "Rq0DZ4HZCiOA",
        "outputId": "86c32073-f2ac-4144-b78f-abe41e77d620"
      },
      "outputs": [
        {
          "output_type": "stream",
          "name": "stdout",
          "text": [
            "Downloading data from https://storage.googleapis.com/tensorflow/keras-applications/vgg16/vgg16_weights_tf_dim_ordering_tf_kernels_notop.h5\n",
            "58892288/58889256 [==============================] - 1s 0us/step\n",
            "58900480/58889256 [==============================] - 1s 0us/step\n",
            "Model: \"vgg16\"\n",
            "_________________________________________________________________\n",
            " Layer (type)                Output Shape              Param #   \n",
            "=================================================================\n",
            " input_2 (InputLayer)        [(None, 32, 32, 3)]       0         \n",
            "                                                                 \n",
            " block1_conv1 (Conv2D)       (None, 32, 32, 64)        1792      \n",
            "                                                                 \n",
            " block1_conv2 (Conv2D)       (None, 32, 32, 64)        36928     \n",
            "                                                                 \n",
            " block1_pool (MaxPooling2D)  (None, 16, 16, 64)        0         \n",
            "                                                                 \n",
            " block2_conv1 (Conv2D)       (None, 16, 16, 128)       73856     \n",
            "                                                                 \n",
            " block2_conv2 (Conv2D)       (None, 16, 16, 128)       147584    \n",
            "                                                                 \n",
            " block2_pool (MaxPooling2D)  (None, 8, 8, 128)         0         \n",
            "                                                                 \n",
            " block3_conv1 (Conv2D)       (None, 8, 8, 256)         295168    \n",
            "                                                                 \n",
            " block3_conv2 (Conv2D)       (None, 8, 8, 256)         590080    \n",
            "                                                                 \n",
            " block3_conv3 (Conv2D)       (None, 8, 8, 256)         590080    \n",
            "                                                                 \n",
            " block3_pool (MaxPooling2D)  (None, 4, 4, 256)         0         \n",
            "                                                                 \n",
            " block4_conv1 (Conv2D)       (None, 4, 4, 512)         1180160   \n",
            "                                                                 \n",
            " block4_conv2 (Conv2D)       (None, 4, 4, 512)         2359808   \n",
            "                                                                 \n",
            " block4_conv3 (Conv2D)       (None, 4, 4, 512)         2359808   \n",
            "                                                                 \n",
            " block4_pool (MaxPooling2D)  (None, 2, 2, 512)         0         \n",
            "                                                                 \n",
            " block5_conv1 (Conv2D)       (None, 2, 2, 512)         2359808   \n",
            "                                                                 \n",
            " block5_conv2 (Conv2D)       (None, 2, 2, 512)         2359808   \n",
            "                                                                 \n",
            " block5_conv3 (Conv2D)       (None, 2, 2, 512)         2359808   \n",
            "                                                                 \n",
            " block5_pool (MaxPooling2D)  (None, 1, 1, 512)         0         \n",
            "                                                                 \n",
            "=================================================================\n",
            "Total params: 14,714,688\n",
            "Trainable params: 14,714,688\n",
            "Non-trainable params: 0\n",
            "_________________________________________________________________\n",
            "None\n"
          ]
        }
      ],
      "source": [
        "vgg16 = VGG16(include_top=False,input_shape=(32,32,3))\n",
        "print(vgg16.summary())\n"
      ]
    },
    {
      "cell_type": "code",
      "execution_count": null,
      "metadata": {
        "id": "3ZTY7UxRCiZd"
      },
      "outputs": [],
      "source": [
        "def ModelVGG16(optimizer):\n",
        "  modelvgg16=Sequential()\n",
        "  for layer in vgg16.layers:\n",
        "    modelvgg16.add(layer)\n",
        "\n",
        "  for layer in modelvgg16.layers:\n",
        "    layer.trainable=False\n",
        "\n",
        "  modelvgg16.add(Flatten())\n",
        "  modelvgg16.add(Dense(128))\n",
        "  modelvgg16.add(Dense(10,activation='softmax'))\n",
        "  modelvgg16.compile(loss=\"categorical_crossentropy\", metrics=[\"accuracy\"], optimizer=optimizer)\n",
        "  return modelvgg16"
      ]
    },
    {
      "cell_type": "code",
      "source": [
        "optimizers = ['SGD','Adagrad','Adadelta', 'RMSprop', 'Adam']\n",
        "\n",
        "for i in optimizers:\n",
        "\n",
        "  print('\\n=================== Running with {0} Optimizer ====================\\n'.format(i))\n",
        "  modelvgg16 = ModelVGG16(i)\n",
        "  hist=modelvgg16.fit(X_train, y_train, batch_size=32, epochs=5, verbose=1, validation_split = 0.3)\n",
        "  m1=modelvgg16.evaluate(X_test, y_test)\n",
        "\n",
        "  print('\\n Model test accuracy with {0} optimizer is {1:.2%} \\n'.format(i,m1[1]))"
      ],
      "metadata": {
        "colab": {
          "base_uri": "https://localhost:8080/"
        },
        "id": "oL9hGu9ZtWVr",
        "outputId": "cb14ea41-d9f0-4051-cd72-4a1621168ab2"
      },
      "execution_count": null,
      "outputs": [
        {
          "output_type": "stream",
          "name": "stdout",
          "text": [
            "\n",
            "=================== Running with SGD Optimizer ====================\n",
            "\n",
            "Epoch 1/5\n",
            "1313/1313 [==============================] - 19s 14ms/step - loss: 0.9367 - accuracy: 0.7413 - val_loss: 0.5975 - val_accuracy: 0.8224\n",
            "Epoch 2/5\n",
            "1313/1313 [==============================] - 18s 14ms/step - loss: 0.4872 - accuracy: 0.8657 - val_loss: 0.4465 - val_accuracy: 0.8640\n",
            "Epoch 3/5\n",
            "1313/1313 [==============================] - 18s 14ms/step - loss: 0.3750 - accuracy: 0.8945 - val_loss: 0.3437 - val_accuracy: 0.8985\n",
            "Epoch 4/5\n",
            "1313/1313 [==============================] - 18s 13ms/step - loss: 0.3178 - accuracy: 0.9088 - val_loss: 0.2976 - val_accuracy: 0.9129\n",
            "Epoch 5/5\n",
            "1313/1313 [==============================] - 18s 13ms/step - loss: 0.2814 - accuracy: 0.9199 - val_loss: 0.2696 - val_accuracy: 0.9223\n",
            "313/313 [==============================] - 3s 10ms/step - loss: 0.2537 - accuracy: 0.9300\n",
            "\n",
            " Model test accuracy with SGD optimizer is 93.00% \n",
            "\n",
            "\n",
            "=================== Running with Adagrad Optimizer ====================\n",
            "\n",
            "Epoch 1/5\n",
            "1313/1313 [==============================] - 19s 14ms/step - loss: 1.5159 - accuracy: 0.6012 - val_loss: 1.1515 - val_accuracy: 0.7313\n",
            "Epoch 2/5\n",
            "1313/1313 [==============================] - 18s 14ms/step - loss: 1.0151 - accuracy: 0.7510 - val_loss: 0.9073 - val_accuracy: 0.7717\n",
            "Epoch 3/5\n",
            "1313/1313 [==============================] - 18s 13ms/step - loss: 0.8436 - accuracy: 0.7845 - val_loss: 0.7862 - val_accuracy: 0.7937\n",
            "Epoch 4/5\n",
            "1313/1313 [==============================] - 18s 13ms/step - loss: 0.7462 - accuracy: 0.8048 - val_loss: 0.7077 - val_accuracy: 0.8168\n",
            "Epoch 5/5\n",
            "1313/1313 [==============================] - 18s 13ms/step - loss: 0.6800 - accuracy: 0.8219 - val_loss: 0.6511 - val_accuracy: 0.8288\n",
            "313/313 [==============================] - 3s 10ms/step - loss: 0.6435 - accuracy: 0.8372\n",
            "\n",
            " Model test accuracy with Adagrad optimizer is 83.72% \n",
            "\n",
            "\n",
            "=================== Running with Adadelta Optimizer ====================\n",
            "\n",
            "Epoch 1/5\n",
            "1313/1313 [==============================] - 19s 14ms/step - loss: 2.3599 - accuracy: 0.1902 - val_loss: 2.2561 - val_accuracy: 0.2482\n",
            "Epoch 2/5\n",
            "1313/1313 [==============================] - 18s 14ms/step - loss: 2.1728 - accuracy: 0.2889 - val_loss: 2.1038 - val_accuracy: 0.3515\n",
            "Epoch 3/5\n",
            "1313/1313 [==============================] - 18s 14ms/step - loss: 2.0414 - accuracy: 0.4023 - val_loss: 1.9849 - val_accuracy: 0.4276\n",
            "Epoch 4/5\n",
            "1313/1313 [==============================] - 18s 14ms/step - loss: 1.9329 - accuracy: 0.4593 - val_loss: 1.8837 - val_accuracy: 0.4839\n",
            "Epoch 5/5\n",
            "1313/1313 [==============================] - 18s 14ms/step - loss: 1.8382 - accuracy: 0.5163 - val_loss: 1.7932 - val_accuracy: 0.5488\n",
            "313/313 [==============================] - 3s 10ms/step - loss: 1.7878 - accuracy: 0.5625\n",
            "\n",
            " Model test accuracy with Adadelta optimizer is 56.25% \n",
            "\n",
            "\n",
            "=================== Running with RMSprop Optimizer ====================\n",
            "\n",
            "Epoch 1/5\n",
            "1313/1313 [==============================] - 19s 14ms/step - loss: 0.3335 - accuracy: 0.8978 - val_loss: 0.1908 - val_accuracy: 0.9402\n",
            "Epoch 2/5\n",
            "1313/1313 [==============================] - 18s 14ms/step - loss: 0.1627 - accuracy: 0.9477 - val_loss: 0.1466 - val_accuracy: 0.9522\n",
            "Epoch 3/5\n",
            "1313/1313 [==============================] - 18s 14ms/step - loss: 0.1357 - accuracy: 0.9564 - val_loss: 0.1705 - val_accuracy: 0.9466\n",
            "Epoch 4/5\n",
            "1313/1313 [==============================] - 18s 14ms/step - loss: 0.1243 - accuracy: 0.9610 - val_loss: 0.1499 - val_accuracy: 0.9546\n",
            "Epoch 5/5\n",
            "1313/1313 [==============================] - 18s 14ms/step - loss: 0.1174 - accuracy: 0.9626 - val_loss: 0.1313 - val_accuracy: 0.9589\n",
            "313/313 [==============================] - 3s 10ms/step - loss: 0.1150 - accuracy: 0.9618\n",
            "\n",
            " Model test accuracy with RMSprop optimizer is 96.18% \n",
            "\n",
            "\n",
            "=================== Running with Adam Optimizer ====================\n",
            "\n",
            "Epoch 1/5\n",
            "1313/1313 [==============================] - 19s 14ms/step - loss: 0.3484 - accuracy: 0.8968 - val_loss: 0.1876 - val_accuracy: 0.9406\n",
            "Epoch 2/5\n",
            "1313/1313 [==============================] - 18s 14ms/step - loss: 0.1559 - accuracy: 0.9503 - val_loss: 0.1670 - val_accuracy: 0.9462\n",
            "Epoch 3/5\n",
            "1313/1313 [==============================] - 18s 14ms/step - loss: 0.1288 - accuracy: 0.9587 - val_loss: 0.1415 - val_accuracy: 0.9547\n",
            "Epoch 4/5\n",
            "1313/1313 [==============================] - 18s 14ms/step - loss: 0.1144 - accuracy: 0.9630 - val_loss: 0.1286 - val_accuracy: 0.9593\n",
            "Epoch 5/5\n",
            "1313/1313 [==============================] - 18s 14ms/step - loss: 0.1058 - accuracy: 0.9658 - val_loss: 0.1249 - val_accuracy: 0.9611\n",
            "313/313 [==============================] - 3s 9ms/step - loss: 0.1122 - accuracy: 0.9638\n",
            "\n",
            " Model test accuracy with Adam optimizer is 96.38% \n",
            "\n"
          ]
        }
      ]
    },
    {
      "cell_type": "markdown",
      "metadata": {
        "id": "Vz11oS1AbH36"
      },
      "source": [
        "## EFFICENT NET"
      ]
    },
    {
      "cell_type": "code",
      "source": [
        "efnb0 = tf.keras.applications.efficientnet.EfficientNetB0(weights='imagenet',include_top=False,input_shape=(32,32,3), classes=10)\n",
        "print(efnb0.summary())"
      ],
      "metadata": {
        "colab": {
          "base_uri": "https://localhost:8080/"
        },
        "id": "8b6TvwRISrJo",
        "outputId": "594ccbe4-5bd9-4db8-e656-3a765a82f2c3"
      },
      "execution_count": null,
      "outputs": [
        {
          "output_type": "stream",
          "name": "stdout",
          "text": [
            "Downloading data from https://storage.googleapis.com/keras-applications/efficientnetb0_notop.h5\n",
            "16711680/16705208 [==============================] - 0s 0us/step\n",
            "16719872/16705208 [==============================] - 0s 0us/step\n",
            "Model: \"efficientnetb0\"\n",
            "__________________________________________________________________________________________________\n",
            " Layer (type)                   Output Shape         Param #     Connected to                     \n",
            "==================================================================================================\n",
            " input_3 (InputLayer)           [(None, 32, 32, 3)]  0           []                               \n",
            "                                                                                                  \n",
            " rescaling (Rescaling)          (None, 32, 32, 3)    0           ['input_3[0][0]']                \n",
            "                                                                                                  \n",
            " normalization (Normalization)  (None, 32, 32, 3)    7           ['rescaling[0][0]']              \n",
            "                                                                                                  \n",
            " stem_conv_pad (ZeroPadding2D)  (None, 33, 33, 3)    0           ['normalization[0][0]']          \n",
            "                                                                                                  \n",
            " stem_conv (Conv2D)             (None, 16, 16, 32)   864         ['stem_conv_pad[0][0]']          \n",
            "                                                                                                  \n",
            " stem_bn (BatchNormalization)   (None, 16, 16, 32)   128         ['stem_conv[0][0]']              \n",
            "                                                                                                  \n",
            " stem_activation (Activation)   (None, 16, 16, 32)   0           ['stem_bn[0][0]']                \n",
            "                                                                                                  \n",
            " block1a_dwconv (DepthwiseConv2  (None, 16, 16, 32)  288         ['stem_activation[0][0]']        \n",
            " D)                                                                                               \n",
            "                                                                                                  \n",
            " block1a_bn (BatchNormalization  (None, 16, 16, 32)  128         ['block1a_dwconv[0][0]']         \n",
            " )                                                                                                \n",
            "                                                                                                  \n",
            " block1a_activation (Activation  (None, 16, 16, 32)  0           ['block1a_bn[0][0]']             \n",
            " )                                                                                                \n",
            "                                                                                                  \n",
            " block1a_se_squeeze (GlobalAver  (None, 32)          0           ['block1a_activation[0][0]']     \n",
            " agePooling2D)                                                                                    \n",
            "                                                                                                  \n",
            " block1a_se_reshape (Reshape)   (None, 1, 1, 32)     0           ['block1a_se_squeeze[0][0]']     \n",
            "                                                                                                  \n",
            " block1a_se_reduce (Conv2D)     (None, 1, 1, 8)      264         ['block1a_se_reshape[0][0]']     \n",
            "                                                                                                  \n",
            " block1a_se_expand (Conv2D)     (None, 1, 1, 32)     288         ['block1a_se_reduce[0][0]']      \n",
            "                                                                                                  \n",
            " block1a_se_excite (Multiply)   (None, 16, 16, 32)   0           ['block1a_activation[0][0]',     \n",
            "                                                                  'block1a_se_expand[0][0]']      \n",
            "                                                                                                  \n",
            " block1a_project_conv (Conv2D)  (None, 16, 16, 16)   512         ['block1a_se_excite[0][0]']      \n",
            "                                                                                                  \n",
            " block1a_project_bn (BatchNorma  (None, 16, 16, 16)  64          ['block1a_project_conv[0][0]']   \n",
            " lization)                                                                                        \n",
            "                                                                                                  \n",
            " block2a_expand_conv (Conv2D)   (None, 16, 16, 96)   1536        ['block1a_project_bn[0][0]']     \n",
            "                                                                                                  \n",
            " block2a_expand_bn (BatchNormal  (None, 16, 16, 96)  384         ['block2a_expand_conv[0][0]']    \n",
            " ization)                                                                                         \n",
            "                                                                                                  \n",
            " block2a_expand_activation (Act  (None, 16, 16, 96)  0           ['block2a_expand_bn[0][0]']      \n",
            " ivation)                                                                                         \n",
            "                                                                                                  \n",
            " block2a_dwconv_pad (ZeroPaddin  (None, 17, 17, 96)  0           ['block2a_expand_activation[0][0]\n",
            " g2D)                                                            ']                               \n",
            "                                                                                                  \n",
            " block2a_dwconv (DepthwiseConv2  (None, 8, 8, 96)    864         ['block2a_dwconv_pad[0][0]']     \n",
            " D)                                                                                               \n",
            "                                                                                                  \n",
            " block2a_bn (BatchNormalization  (None, 8, 8, 96)    384         ['block2a_dwconv[0][0]']         \n",
            " )                                                                                                \n",
            "                                                                                                  \n",
            " block2a_activation (Activation  (None, 8, 8, 96)    0           ['block2a_bn[0][0]']             \n",
            " )                                                                                                \n",
            "                                                                                                  \n",
            " block2a_se_squeeze (GlobalAver  (None, 96)          0           ['block2a_activation[0][0]']     \n",
            " agePooling2D)                                                                                    \n",
            "                                                                                                  \n",
            " block2a_se_reshape (Reshape)   (None, 1, 1, 96)     0           ['block2a_se_squeeze[0][0]']     \n",
            "                                                                                                  \n",
            " block2a_se_reduce (Conv2D)     (None, 1, 1, 4)      388         ['block2a_se_reshape[0][0]']     \n",
            "                                                                                                  \n",
            " block2a_se_expand (Conv2D)     (None, 1, 1, 96)     480         ['block2a_se_reduce[0][0]']      \n",
            "                                                                                                  \n",
            " block2a_se_excite (Multiply)   (None, 8, 8, 96)     0           ['block2a_activation[0][0]',     \n",
            "                                                                  'block2a_se_expand[0][0]']      \n",
            "                                                                                                  \n",
            " block2a_project_conv (Conv2D)  (None, 8, 8, 24)     2304        ['block2a_se_excite[0][0]']      \n",
            "                                                                                                  \n",
            " block2a_project_bn (BatchNorma  (None, 8, 8, 24)    96          ['block2a_project_conv[0][0]']   \n",
            " lization)                                                                                        \n",
            "                                                                                                  \n",
            " block2b_expand_conv (Conv2D)   (None, 8, 8, 144)    3456        ['block2a_project_bn[0][0]']     \n",
            "                                                                                                  \n",
            " block2b_expand_bn (BatchNormal  (None, 8, 8, 144)   576         ['block2b_expand_conv[0][0]']    \n",
            " ization)                                                                                         \n",
            "                                                                                                  \n",
            " block2b_expand_activation (Act  (None, 8, 8, 144)   0           ['block2b_expand_bn[0][0]']      \n",
            " ivation)                                                                                         \n",
            "                                                                                                  \n",
            " block2b_dwconv (DepthwiseConv2  (None, 8, 8, 144)   1296        ['block2b_expand_activation[0][0]\n",
            " D)                                                              ']                               \n",
            "                                                                                                  \n",
            " block2b_bn (BatchNormalization  (None, 8, 8, 144)   576         ['block2b_dwconv[0][0]']         \n",
            " )                                                                                                \n",
            "                                                                                                  \n",
            " block2b_activation (Activation  (None, 8, 8, 144)   0           ['block2b_bn[0][0]']             \n",
            " )                                                                                                \n",
            "                                                                                                  \n",
            " block2b_se_squeeze (GlobalAver  (None, 144)         0           ['block2b_activation[0][0]']     \n",
            " agePooling2D)                                                                                    \n",
            "                                                                                                  \n",
            " block2b_se_reshape (Reshape)   (None, 1, 1, 144)    0           ['block2b_se_squeeze[0][0]']     \n",
            "                                                                                                  \n",
            " block2b_se_reduce (Conv2D)     (None, 1, 1, 6)      870         ['block2b_se_reshape[0][0]']     \n",
            "                                                                                                  \n",
            " block2b_se_expand (Conv2D)     (None, 1, 1, 144)    1008        ['block2b_se_reduce[0][0]']      \n",
            "                                                                                                  \n",
            " block2b_se_excite (Multiply)   (None, 8, 8, 144)    0           ['block2b_activation[0][0]',     \n",
            "                                                                  'block2b_se_expand[0][0]']      \n",
            "                                                                                                  \n",
            " block2b_project_conv (Conv2D)  (None, 8, 8, 24)     3456        ['block2b_se_excite[0][0]']      \n",
            "                                                                                                  \n",
            " block2b_project_bn (BatchNorma  (None, 8, 8, 24)    96          ['block2b_project_conv[0][0]']   \n",
            " lization)                                                                                        \n",
            "                                                                                                  \n",
            " block2b_drop (Dropout)         (None, 8, 8, 24)     0           ['block2b_project_bn[0][0]']     \n",
            "                                                                                                  \n",
            " block2b_add (Add)              (None, 8, 8, 24)     0           ['block2b_drop[0][0]',           \n",
            "                                                                  'block2a_project_bn[0][0]']     \n",
            "                                                                                                  \n",
            " block3a_expand_conv (Conv2D)   (None, 8, 8, 144)    3456        ['block2b_add[0][0]']            \n",
            "                                                                                                  \n",
            " block3a_expand_bn (BatchNormal  (None, 8, 8, 144)   576         ['block3a_expand_conv[0][0]']    \n",
            " ization)                                                                                         \n",
            "                                                                                                  \n",
            " block3a_expand_activation (Act  (None, 8, 8, 144)   0           ['block3a_expand_bn[0][0]']      \n",
            " ivation)                                                                                         \n",
            "                                                                                                  \n",
            " block3a_dwconv_pad (ZeroPaddin  (None, 11, 11, 144)  0          ['block3a_expand_activation[0][0]\n",
            " g2D)                                                            ']                               \n",
            "                                                                                                  \n",
            " block3a_dwconv (DepthwiseConv2  (None, 4, 4, 144)   3600        ['block3a_dwconv_pad[0][0]']     \n",
            " D)                                                                                               \n",
            "                                                                                                  \n",
            " block3a_bn (BatchNormalization  (None, 4, 4, 144)   576         ['block3a_dwconv[0][0]']         \n",
            " )                                                                                                \n",
            "                                                                                                  \n",
            " block3a_activation (Activation  (None, 4, 4, 144)   0           ['block3a_bn[0][0]']             \n",
            " )                                                                                                \n",
            "                                                                                                  \n",
            " block3a_se_squeeze (GlobalAver  (None, 144)         0           ['block3a_activation[0][0]']     \n",
            " agePooling2D)                                                                                    \n",
            "                                                                                                  \n",
            " block3a_se_reshape (Reshape)   (None, 1, 1, 144)    0           ['block3a_se_squeeze[0][0]']     \n",
            "                                                                                                  \n",
            " block3a_se_reduce (Conv2D)     (None, 1, 1, 6)      870         ['block3a_se_reshape[0][0]']     \n",
            "                                                                                                  \n",
            " block3a_se_expand (Conv2D)     (None, 1, 1, 144)    1008        ['block3a_se_reduce[0][0]']      \n",
            "                                                                                                  \n",
            " block3a_se_excite (Multiply)   (None, 4, 4, 144)    0           ['block3a_activation[0][0]',     \n",
            "                                                                  'block3a_se_expand[0][0]']      \n",
            "                                                                                                  \n",
            " block3a_project_conv (Conv2D)  (None, 4, 4, 40)     5760        ['block3a_se_excite[0][0]']      \n",
            "                                                                                                  \n",
            " block3a_project_bn (BatchNorma  (None, 4, 4, 40)    160         ['block3a_project_conv[0][0]']   \n",
            " lization)                                                                                        \n",
            "                                                                                                  \n",
            " block3b_expand_conv (Conv2D)   (None, 4, 4, 240)    9600        ['block3a_project_bn[0][0]']     \n",
            "                                                                                                  \n",
            " block3b_expand_bn (BatchNormal  (None, 4, 4, 240)   960         ['block3b_expand_conv[0][0]']    \n",
            " ization)                                                                                         \n",
            "                                                                                                  \n",
            " block3b_expand_activation (Act  (None, 4, 4, 240)   0           ['block3b_expand_bn[0][0]']      \n",
            " ivation)                                                                                         \n",
            "                                                                                                  \n",
            " block3b_dwconv (DepthwiseConv2  (None, 4, 4, 240)   6000        ['block3b_expand_activation[0][0]\n",
            " D)                                                              ']                               \n",
            "                                                                                                  \n",
            " block3b_bn (BatchNormalization  (None, 4, 4, 240)   960         ['block3b_dwconv[0][0]']         \n",
            " )                                                                                                \n",
            "                                                                                                  \n",
            " block3b_activation (Activation  (None, 4, 4, 240)   0           ['block3b_bn[0][0]']             \n",
            " )                                                                                                \n",
            "                                                                                                  \n",
            " block3b_se_squeeze (GlobalAver  (None, 240)         0           ['block3b_activation[0][0]']     \n",
            " agePooling2D)                                                                                    \n",
            "                                                                                                  \n",
            " block3b_se_reshape (Reshape)   (None, 1, 1, 240)    0           ['block3b_se_squeeze[0][0]']     \n",
            "                                                                                                  \n",
            " block3b_se_reduce (Conv2D)     (None, 1, 1, 10)     2410        ['block3b_se_reshape[0][0]']     \n",
            "                                                                                                  \n",
            " block3b_se_expand (Conv2D)     (None, 1, 1, 240)    2640        ['block3b_se_reduce[0][0]']      \n",
            "                                                                                                  \n",
            " block3b_se_excite (Multiply)   (None, 4, 4, 240)    0           ['block3b_activation[0][0]',     \n",
            "                                                                  'block3b_se_expand[0][0]']      \n",
            "                                                                                                  \n",
            " block3b_project_conv (Conv2D)  (None, 4, 4, 40)     9600        ['block3b_se_excite[0][0]']      \n",
            "                                                                                                  \n",
            " block3b_project_bn (BatchNorma  (None, 4, 4, 40)    160         ['block3b_project_conv[0][0]']   \n",
            " lization)                                                                                        \n",
            "                                                                                                  \n",
            " block3b_drop (Dropout)         (None, 4, 4, 40)     0           ['block3b_project_bn[0][0]']     \n",
            "                                                                                                  \n",
            " block3b_add (Add)              (None, 4, 4, 40)     0           ['block3b_drop[0][0]',           \n",
            "                                                                  'block3a_project_bn[0][0]']     \n",
            "                                                                                                  \n",
            " block4a_expand_conv (Conv2D)   (None, 4, 4, 240)    9600        ['block3b_add[0][0]']            \n",
            "                                                                                                  \n",
            " block4a_expand_bn (BatchNormal  (None, 4, 4, 240)   960         ['block4a_expand_conv[0][0]']    \n",
            " ization)                                                                                         \n",
            "                                                                                                  \n",
            " block4a_expand_activation (Act  (None, 4, 4, 240)   0           ['block4a_expand_bn[0][0]']      \n",
            " ivation)                                                                                         \n",
            "                                                                                                  \n",
            " block4a_dwconv_pad (ZeroPaddin  (None, 5, 5, 240)   0           ['block4a_expand_activation[0][0]\n",
            " g2D)                                                            ']                               \n",
            "                                                                                                  \n",
            " block4a_dwconv (DepthwiseConv2  (None, 2, 2, 240)   2160        ['block4a_dwconv_pad[0][0]']     \n",
            " D)                                                                                               \n",
            "                                                                                                  \n",
            " block4a_bn (BatchNormalization  (None, 2, 2, 240)   960         ['block4a_dwconv[0][0]']         \n",
            " )                                                                                                \n",
            "                                                                                                  \n",
            " block4a_activation (Activation  (None, 2, 2, 240)   0           ['block4a_bn[0][0]']             \n",
            " )                                                                                                \n",
            "                                                                                                  \n",
            " block4a_se_squeeze (GlobalAver  (None, 240)         0           ['block4a_activation[0][0]']     \n",
            " agePooling2D)                                                                                    \n",
            "                                                                                                  \n",
            " block4a_se_reshape (Reshape)   (None, 1, 1, 240)    0           ['block4a_se_squeeze[0][0]']     \n",
            "                                                                                                  \n",
            " block4a_se_reduce (Conv2D)     (None, 1, 1, 10)     2410        ['block4a_se_reshape[0][0]']     \n",
            "                                                                                                  \n",
            " block4a_se_expand (Conv2D)     (None, 1, 1, 240)    2640        ['block4a_se_reduce[0][0]']      \n",
            "                                                                                                  \n",
            " block4a_se_excite (Multiply)   (None, 2, 2, 240)    0           ['block4a_activation[0][0]',     \n",
            "                                                                  'block4a_se_expand[0][0]']      \n",
            "                                                                                                  \n",
            " block4a_project_conv (Conv2D)  (None, 2, 2, 80)     19200       ['block4a_se_excite[0][0]']      \n",
            "                                                                                                  \n",
            " block4a_project_bn (BatchNorma  (None, 2, 2, 80)    320         ['block4a_project_conv[0][0]']   \n",
            " lization)                                                                                        \n",
            "                                                                                                  \n",
            " block4b_expand_conv (Conv2D)   (None, 2, 2, 480)    38400       ['block4a_project_bn[0][0]']     \n",
            "                                                                                                  \n",
            " block4b_expand_bn (BatchNormal  (None, 2, 2, 480)   1920        ['block4b_expand_conv[0][0]']    \n",
            " ization)                                                                                         \n",
            "                                                                                                  \n",
            " block4b_expand_activation (Act  (None, 2, 2, 480)   0           ['block4b_expand_bn[0][0]']      \n",
            " ivation)                                                                                         \n",
            "                                                                                                  \n",
            " block4b_dwconv (DepthwiseConv2  (None, 2, 2, 480)   4320        ['block4b_expand_activation[0][0]\n",
            " D)                                                              ']                               \n",
            "                                                                                                  \n",
            " block4b_bn (BatchNormalization  (None, 2, 2, 480)   1920        ['block4b_dwconv[0][0]']         \n",
            " )                                                                                                \n",
            "                                                                                                  \n",
            " block4b_activation (Activation  (None, 2, 2, 480)   0           ['block4b_bn[0][0]']             \n",
            " )                                                                                                \n",
            "                                                                                                  \n",
            " block4b_se_squeeze (GlobalAver  (None, 480)         0           ['block4b_activation[0][0]']     \n",
            " agePooling2D)                                                                                    \n",
            "                                                                                                  \n",
            " block4b_se_reshape (Reshape)   (None, 1, 1, 480)    0           ['block4b_se_squeeze[0][0]']     \n",
            "                                                                                                  \n",
            " block4b_se_reduce (Conv2D)     (None, 1, 1, 20)     9620        ['block4b_se_reshape[0][0]']     \n",
            "                                                                                                  \n",
            " block4b_se_expand (Conv2D)     (None, 1, 1, 480)    10080       ['block4b_se_reduce[0][0]']      \n",
            "                                                                                                  \n",
            " block4b_se_excite (Multiply)   (None, 2, 2, 480)    0           ['block4b_activation[0][0]',     \n",
            "                                                                  'block4b_se_expand[0][0]']      \n",
            "                                                                                                  \n",
            " block4b_project_conv (Conv2D)  (None, 2, 2, 80)     38400       ['block4b_se_excite[0][0]']      \n",
            "                                                                                                  \n",
            " block4b_project_bn (BatchNorma  (None, 2, 2, 80)    320         ['block4b_project_conv[0][0]']   \n",
            " lization)                                                                                        \n",
            "                                                                                                  \n",
            " block4b_drop (Dropout)         (None, 2, 2, 80)     0           ['block4b_project_bn[0][0]']     \n",
            "                                                                                                  \n",
            " block4b_add (Add)              (None, 2, 2, 80)     0           ['block4b_drop[0][0]',           \n",
            "                                                                  'block4a_project_bn[0][0]']     \n",
            "                                                                                                  \n",
            " block4c_expand_conv (Conv2D)   (None, 2, 2, 480)    38400       ['block4b_add[0][0]']            \n",
            "                                                                                                  \n",
            " block4c_expand_bn (BatchNormal  (None, 2, 2, 480)   1920        ['block4c_expand_conv[0][0]']    \n",
            " ization)                                                                                         \n",
            "                                                                                                  \n",
            " block4c_expand_activation (Act  (None, 2, 2, 480)   0           ['block4c_expand_bn[0][0]']      \n",
            " ivation)                                                                                         \n",
            "                                                                                                  \n",
            " block4c_dwconv (DepthwiseConv2  (None, 2, 2, 480)   4320        ['block4c_expand_activation[0][0]\n",
            " D)                                                              ']                               \n",
            "                                                                                                  \n",
            " block4c_bn (BatchNormalization  (None, 2, 2, 480)   1920        ['block4c_dwconv[0][0]']         \n",
            " )                                                                                                \n",
            "                                                                                                  \n",
            " block4c_activation (Activation  (None, 2, 2, 480)   0           ['block4c_bn[0][0]']             \n",
            " )                                                                                                \n",
            "                                                                                                  \n",
            " block4c_se_squeeze (GlobalAver  (None, 480)         0           ['block4c_activation[0][0]']     \n",
            " agePooling2D)                                                                                    \n",
            "                                                                                                  \n",
            " block4c_se_reshape (Reshape)   (None, 1, 1, 480)    0           ['block4c_se_squeeze[0][0]']     \n",
            "                                                                                                  \n",
            " block4c_se_reduce (Conv2D)     (None, 1, 1, 20)     9620        ['block4c_se_reshape[0][0]']     \n",
            "                                                                                                  \n",
            " block4c_se_expand (Conv2D)     (None, 1, 1, 480)    10080       ['block4c_se_reduce[0][0]']      \n",
            "                                                                                                  \n",
            " block4c_se_excite (Multiply)   (None, 2, 2, 480)    0           ['block4c_activation[0][0]',     \n",
            "                                                                  'block4c_se_expand[0][0]']      \n",
            "                                                                                                  \n",
            " block4c_project_conv (Conv2D)  (None, 2, 2, 80)     38400       ['block4c_se_excite[0][0]']      \n",
            "                                                                                                  \n",
            " block4c_project_bn (BatchNorma  (None, 2, 2, 80)    320         ['block4c_project_conv[0][0]']   \n",
            " lization)                                                                                        \n",
            "                                                                                                  \n",
            " block4c_drop (Dropout)         (None, 2, 2, 80)     0           ['block4c_project_bn[0][0]']     \n",
            "                                                                                                  \n",
            " block4c_add (Add)              (None, 2, 2, 80)     0           ['block4c_drop[0][0]',           \n",
            "                                                                  'block4b_add[0][0]']            \n",
            "                                                                                                  \n",
            " block5a_expand_conv (Conv2D)   (None, 2, 2, 480)    38400       ['block4c_add[0][0]']            \n",
            "                                                                                                  \n",
            " block5a_expand_bn (BatchNormal  (None, 2, 2, 480)   1920        ['block5a_expand_conv[0][0]']    \n",
            " ization)                                                                                         \n",
            "                                                                                                  \n",
            " block5a_expand_activation (Act  (None, 2, 2, 480)   0           ['block5a_expand_bn[0][0]']      \n",
            " ivation)                                                                                         \n",
            "                                                                                                  \n",
            " block5a_dwconv (DepthwiseConv2  (None, 2, 2, 480)   12000       ['block5a_expand_activation[0][0]\n",
            " D)                                                              ']                               \n",
            "                                                                                                  \n",
            " block5a_bn (BatchNormalization  (None, 2, 2, 480)   1920        ['block5a_dwconv[0][0]']         \n",
            " )                                                                                                \n",
            "                                                                                                  \n",
            " block5a_activation (Activation  (None, 2, 2, 480)   0           ['block5a_bn[0][0]']             \n",
            " )                                                                                                \n",
            "                                                                                                  \n",
            " block5a_se_squeeze (GlobalAver  (None, 480)         0           ['block5a_activation[0][0]']     \n",
            " agePooling2D)                                                                                    \n",
            "                                                                                                  \n",
            " block5a_se_reshape (Reshape)   (None, 1, 1, 480)    0           ['block5a_se_squeeze[0][0]']     \n",
            "                                                                                                  \n",
            " block5a_se_reduce (Conv2D)     (None, 1, 1, 20)     9620        ['block5a_se_reshape[0][0]']     \n",
            "                                                                                                  \n",
            " block5a_se_expand (Conv2D)     (None, 1, 1, 480)    10080       ['block5a_se_reduce[0][0]']      \n",
            "                                                                                                  \n",
            " block5a_se_excite (Multiply)   (None, 2, 2, 480)    0           ['block5a_activation[0][0]',     \n",
            "                                                                  'block5a_se_expand[0][0]']      \n",
            "                                                                                                  \n",
            " block5a_project_conv (Conv2D)  (None, 2, 2, 112)    53760       ['block5a_se_excite[0][0]']      \n",
            "                                                                                                  \n",
            " block5a_project_bn (BatchNorma  (None, 2, 2, 112)   448         ['block5a_project_conv[0][0]']   \n",
            " lization)                                                                                        \n",
            "                                                                                                  \n",
            " block5b_expand_conv (Conv2D)   (None, 2, 2, 672)    75264       ['block5a_project_bn[0][0]']     \n",
            "                                                                                                  \n",
            " block5b_expand_bn (BatchNormal  (None, 2, 2, 672)   2688        ['block5b_expand_conv[0][0]']    \n",
            " ization)                                                                                         \n",
            "                                                                                                  \n",
            " block5b_expand_activation (Act  (None, 2, 2, 672)   0           ['block5b_expand_bn[0][0]']      \n",
            " ivation)                                                                                         \n",
            "                                                                                                  \n",
            " block5b_dwconv (DepthwiseConv2  (None, 2, 2, 672)   16800       ['block5b_expand_activation[0][0]\n",
            " D)                                                              ']                               \n",
            "                                                                                                  \n",
            " block5b_bn (BatchNormalization  (None, 2, 2, 672)   2688        ['block5b_dwconv[0][0]']         \n",
            " )                                                                                                \n",
            "                                                                                                  \n",
            " block5b_activation (Activation  (None, 2, 2, 672)   0           ['block5b_bn[0][0]']             \n",
            " )                                                                                                \n",
            "                                                                                                  \n",
            " block5b_se_squeeze (GlobalAver  (None, 672)         0           ['block5b_activation[0][0]']     \n",
            " agePooling2D)                                                                                    \n",
            "                                                                                                  \n",
            " block5b_se_reshape (Reshape)   (None, 1, 1, 672)    0           ['block5b_se_squeeze[0][0]']     \n",
            "                                                                                                  \n",
            " block5b_se_reduce (Conv2D)     (None, 1, 1, 28)     18844       ['block5b_se_reshape[0][0]']     \n",
            "                                                                                                  \n",
            " block5b_se_expand (Conv2D)     (None, 1, 1, 672)    19488       ['block5b_se_reduce[0][0]']      \n",
            "                                                                                                  \n",
            " block5b_se_excite (Multiply)   (None, 2, 2, 672)    0           ['block5b_activation[0][0]',     \n",
            "                                                                  'block5b_se_expand[0][0]']      \n",
            "                                                                                                  \n",
            " block5b_project_conv (Conv2D)  (None, 2, 2, 112)    75264       ['block5b_se_excite[0][0]']      \n",
            "                                                                                                  \n",
            " block5b_project_bn (BatchNorma  (None, 2, 2, 112)   448         ['block5b_project_conv[0][0]']   \n",
            " lization)                                                                                        \n",
            "                                                                                                  \n",
            " block5b_drop (Dropout)         (None, 2, 2, 112)    0           ['block5b_project_bn[0][0]']     \n",
            "                                                                                                  \n",
            " block5b_add (Add)              (None, 2, 2, 112)    0           ['block5b_drop[0][0]',           \n",
            "                                                                  'block5a_project_bn[0][0]']     \n",
            "                                                                                                  \n",
            " block5c_expand_conv (Conv2D)   (None, 2, 2, 672)    75264       ['block5b_add[0][0]']            \n",
            "                                                                                                  \n",
            " block5c_expand_bn (BatchNormal  (None, 2, 2, 672)   2688        ['block5c_expand_conv[0][0]']    \n",
            " ization)                                                                                         \n",
            "                                                                                                  \n",
            " block5c_expand_activation (Act  (None, 2, 2, 672)   0           ['block5c_expand_bn[0][0]']      \n",
            " ivation)                                                                                         \n",
            "                                                                                                  \n",
            " block5c_dwconv (DepthwiseConv2  (None, 2, 2, 672)   16800       ['block5c_expand_activation[0][0]\n",
            " D)                                                              ']                               \n",
            "                                                                                                  \n",
            " block5c_bn (BatchNormalization  (None, 2, 2, 672)   2688        ['block5c_dwconv[0][0]']         \n",
            " )                                                                                                \n",
            "                                                                                                  \n",
            " block5c_activation (Activation  (None, 2, 2, 672)   0           ['block5c_bn[0][0]']             \n",
            " )                                                                                                \n",
            "                                                                                                  \n",
            " block5c_se_squeeze (GlobalAver  (None, 672)         0           ['block5c_activation[0][0]']     \n",
            " agePooling2D)                                                                                    \n",
            "                                                                                                  \n",
            " block5c_se_reshape (Reshape)   (None, 1, 1, 672)    0           ['block5c_se_squeeze[0][0]']     \n",
            "                                                                                                  \n",
            " block5c_se_reduce (Conv2D)     (None, 1, 1, 28)     18844       ['block5c_se_reshape[0][0]']     \n",
            "                                                                                                  \n",
            " block5c_se_expand (Conv2D)     (None, 1, 1, 672)    19488       ['block5c_se_reduce[0][0]']      \n",
            "                                                                                                  \n",
            " block5c_se_excite (Multiply)   (None, 2, 2, 672)    0           ['block5c_activation[0][0]',     \n",
            "                                                                  'block5c_se_expand[0][0]']      \n",
            "                                                                                                  \n",
            " block5c_project_conv (Conv2D)  (None, 2, 2, 112)    75264       ['block5c_se_excite[0][0]']      \n",
            "                                                                                                  \n",
            " block5c_project_bn (BatchNorma  (None, 2, 2, 112)   448         ['block5c_project_conv[0][0]']   \n",
            " lization)                                                                                        \n",
            "                                                                                                  \n",
            " block5c_drop (Dropout)         (None, 2, 2, 112)    0           ['block5c_project_bn[0][0]']     \n",
            "                                                                                                  \n",
            " block5c_add (Add)              (None, 2, 2, 112)    0           ['block5c_drop[0][0]',           \n",
            "                                                                  'block5b_add[0][0]']            \n",
            "                                                                                                  \n",
            " block6a_expand_conv (Conv2D)   (None, 2, 2, 672)    75264       ['block5c_add[0][0]']            \n",
            "                                                                                                  \n",
            " block6a_expand_bn (BatchNormal  (None, 2, 2, 672)   2688        ['block6a_expand_conv[0][0]']    \n",
            " ization)                                                                                         \n",
            "                                                                                                  \n",
            " block6a_expand_activation (Act  (None, 2, 2, 672)   0           ['block6a_expand_bn[0][0]']      \n",
            " ivation)                                                                                         \n",
            "                                                                                                  \n",
            " block6a_dwconv_pad (ZeroPaddin  (None, 5, 5, 672)   0           ['block6a_expand_activation[0][0]\n",
            " g2D)                                                            ']                               \n",
            "                                                                                                  \n",
            " block6a_dwconv (DepthwiseConv2  (None, 1, 1, 672)   16800       ['block6a_dwconv_pad[0][0]']     \n",
            " D)                                                                                               \n",
            "                                                                                                  \n",
            " block6a_bn (BatchNormalization  (None, 1, 1, 672)   2688        ['block6a_dwconv[0][0]']         \n",
            " )                                                                                                \n",
            "                                                                                                  \n",
            " block6a_activation (Activation  (None, 1, 1, 672)   0           ['block6a_bn[0][0]']             \n",
            " )                                                                                                \n",
            "                                                                                                  \n",
            " block6a_se_squeeze (GlobalAver  (None, 672)         0           ['block6a_activation[0][0]']     \n",
            " agePooling2D)                                                                                    \n",
            "                                                                                                  \n",
            " block6a_se_reshape (Reshape)   (None, 1, 1, 672)    0           ['block6a_se_squeeze[0][0]']     \n",
            "                                                                                                  \n",
            " block6a_se_reduce (Conv2D)     (None, 1, 1, 28)     18844       ['block6a_se_reshape[0][0]']     \n",
            "                                                                                                  \n",
            " block6a_se_expand (Conv2D)     (None, 1, 1, 672)    19488       ['block6a_se_reduce[0][0]']      \n",
            "                                                                                                  \n",
            " block6a_se_excite (Multiply)   (None, 1, 1, 672)    0           ['block6a_activation[0][0]',     \n",
            "                                                                  'block6a_se_expand[0][0]']      \n",
            "                                                                                                  \n",
            " block6a_project_conv (Conv2D)  (None, 1, 1, 192)    129024      ['block6a_se_excite[0][0]']      \n",
            "                                                                                                  \n",
            " block6a_project_bn (BatchNorma  (None, 1, 1, 192)   768         ['block6a_project_conv[0][0]']   \n",
            " lization)                                                                                        \n",
            "                                                                                                  \n",
            " block6b_expand_conv (Conv2D)   (None, 1, 1, 1152)   221184      ['block6a_project_bn[0][0]']     \n",
            "                                                                                                  \n",
            " block6b_expand_bn (BatchNormal  (None, 1, 1, 1152)  4608        ['block6b_expand_conv[0][0]']    \n",
            " ization)                                                                                         \n",
            "                                                                                                  \n",
            " block6b_expand_activation (Act  (None, 1, 1, 1152)  0           ['block6b_expand_bn[0][0]']      \n",
            " ivation)                                                                                         \n",
            "                                                                                                  \n",
            " block6b_dwconv (DepthwiseConv2  (None, 1, 1, 1152)  28800       ['block6b_expand_activation[0][0]\n",
            " D)                                                              ']                               \n",
            "                                                                                                  \n",
            " block6b_bn (BatchNormalization  (None, 1, 1, 1152)  4608        ['block6b_dwconv[0][0]']         \n",
            " )                                                                                                \n",
            "                                                                                                  \n",
            " block6b_activation (Activation  (None, 1, 1, 1152)  0           ['block6b_bn[0][0]']             \n",
            " )                                                                                                \n",
            "                                                                                                  \n",
            " block6b_se_squeeze (GlobalAver  (None, 1152)        0           ['block6b_activation[0][0]']     \n",
            " agePooling2D)                                                                                    \n",
            "                                                                                                  \n",
            " block6b_se_reshape (Reshape)   (None, 1, 1, 1152)   0           ['block6b_se_squeeze[0][0]']     \n",
            "                                                                                                  \n",
            " block6b_se_reduce (Conv2D)     (None, 1, 1, 48)     55344       ['block6b_se_reshape[0][0]']     \n",
            "                                                                                                  \n",
            " block6b_se_expand (Conv2D)     (None, 1, 1, 1152)   56448       ['block6b_se_reduce[0][0]']      \n",
            "                                                                                                  \n",
            " block6b_se_excite (Multiply)   (None, 1, 1, 1152)   0           ['block6b_activation[0][0]',     \n",
            "                                                                  'block6b_se_expand[0][0]']      \n",
            "                                                                                                  \n",
            " block6b_project_conv (Conv2D)  (None, 1, 1, 192)    221184      ['block6b_se_excite[0][0]']      \n",
            "                                                                                                  \n",
            " block6b_project_bn (BatchNorma  (None, 1, 1, 192)   768         ['block6b_project_conv[0][0]']   \n",
            " lization)                                                                                        \n",
            "                                                                                                  \n",
            " block6b_drop (Dropout)         (None, 1, 1, 192)    0           ['block6b_project_bn[0][0]']     \n",
            "                                                                                                  \n",
            " block6b_add (Add)              (None, 1, 1, 192)    0           ['block6b_drop[0][0]',           \n",
            "                                                                  'block6a_project_bn[0][0]']     \n",
            "                                                                                                  \n",
            " block6c_expand_conv (Conv2D)   (None, 1, 1, 1152)   221184      ['block6b_add[0][0]']            \n",
            "                                                                                                  \n",
            " block6c_expand_bn (BatchNormal  (None, 1, 1, 1152)  4608        ['block6c_expand_conv[0][0]']    \n",
            " ization)                                                                                         \n",
            "                                                                                                  \n",
            " block6c_expand_activation (Act  (None, 1, 1, 1152)  0           ['block6c_expand_bn[0][0]']      \n",
            " ivation)                                                                                         \n",
            "                                                                                                  \n",
            " block6c_dwconv (DepthwiseConv2  (None, 1, 1, 1152)  28800       ['block6c_expand_activation[0][0]\n",
            " D)                                                              ']                               \n",
            "                                                                                                  \n",
            " block6c_bn (BatchNormalization  (None, 1, 1, 1152)  4608        ['block6c_dwconv[0][0]']         \n",
            " )                                                                                                \n",
            "                                                                                                  \n",
            " block6c_activation (Activation  (None, 1, 1, 1152)  0           ['block6c_bn[0][0]']             \n",
            " )                                                                                                \n",
            "                                                                                                  \n",
            " block6c_se_squeeze (GlobalAver  (None, 1152)        0           ['block6c_activation[0][0]']     \n",
            " agePooling2D)                                                                                    \n",
            "                                                                                                  \n",
            " block6c_se_reshape (Reshape)   (None, 1, 1, 1152)   0           ['block6c_se_squeeze[0][0]']     \n",
            "                                                                                                  \n",
            " block6c_se_reduce (Conv2D)     (None, 1, 1, 48)     55344       ['block6c_se_reshape[0][0]']     \n",
            "                                                                                                  \n",
            " block6c_se_expand (Conv2D)     (None, 1, 1, 1152)   56448       ['block6c_se_reduce[0][0]']      \n",
            "                                                                                                  \n",
            " block6c_se_excite (Multiply)   (None, 1, 1, 1152)   0           ['block6c_activation[0][0]',     \n",
            "                                                                  'block6c_se_expand[0][0]']      \n",
            "                                                                                                  \n",
            " block6c_project_conv (Conv2D)  (None, 1, 1, 192)    221184      ['block6c_se_excite[0][0]']      \n",
            "                                                                                                  \n",
            " block6c_project_bn (BatchNorma  (None, 1, 1, 192)   768         ['block6c_project_conv[0][0]']   \n",
            " lization)                                                                                        \n",
            "                                                                                                  \n",
            " block6c_drop (Dropout)         (None, 1, 1, 192)    0           ['block6c_project_bn[0][0]']     \n",
            "                                                                                                  \n",
            " block6c_add (Add)              (None, 1, 1, 192)    0           ['block6c_drop[0][0]',           \n",
            "                                                                  'block6b_add[0][0]']            \n",
            "                                                                                                  \n",
            " block6d_expand_conv (Conv2D)   (None, 1, 1, 1152)   221184      ['block6c_add[0][0]']            \n",
            "                                                                                                  \n",
            " block6d_expand_bn (BatchNormal  (None, 1, 1, 1152)  4608        ['block6d_expand_conv[0][0]']    \n",
            " ization)                                                                                         \n",
            "                                                                                                  \n",
            " block6d_expand_activation (Act  (None, 1, 1, 1152)  0           ['block6d_expand_bn[0][0]']      \n",
            " ivation)                                                                                         \n",
            "                                                                                                  \n",
            " block6d_dwconv (DepthwiseConv2  (None, 1, 1, 1152)  28800       ['block6d_expand_activation[0][0]\n",
            " D)                                                              ']                               \n",
            "                                                                                                  \n",
            " block6d_bn (BatchNormalization  (None, 1, 1, 1152)  4608        ['block6d_dwconv[0][0]']         \n",
            " )                                                                                                \n",
            "                                                                                                  \n",
            " block6d_activation (Activation  (None, 1, 1, 1152)  0           ['block6d_bn[0][0]']             \n",
            " )                                                                                                \n",
            "                                                                                                  \n",
            " block6d_se_squeeze (GlobalAver  (None, 1152)        0           ['block6d_activation[0][0]']     \n",
            " agePooling2D)                                                                                    \n",
            "                                                                                                  \n",
            " block6d_se_reshape (Reshape)   (None, 1, 1, 1152)   0           ['block6d_se_squeeze[0][0]']     \n",
            "                                                                                                  \n",
            " block6d_se_reduce (Conv2D)     (None, 1, 1, 48)     55344       ['block6d_se_reshape[0][0]']     \n",
            "                                                                                                  \n",
            " block6d_se_expand (Conv2D)     (None, 1, 1, 1152)   56448       ['block6d_se_reduce[0][0]']      \n",
            "                                                                                                  \n",
            " block6d_se_excite (Multiply)   (None, 1, 1, 1152)   0           ['block6d_activation[0][0]',     \n",
            "                                                                  'block6d_se_expand[0][0]']      \n",
            "                                                                                                  \n",
            " block6d_project_conv (Conv2D)  (None, 1, 1, 192)    221184      ['block6d_se_excite[0][0]']      \n",
            "                                                                                                  \n",
            " block6d_project_bn (BatchNorma  (None, 1, 1, 192)   768         ['block6d_project_conv[0][0]']   \n",
            " lization)                                                                                        \n",
            "                                                                                                  \n",
            " block6d_drop (Dropout)         (None, 1, 1, 192)    0           ['block6d_project_bn[0][0]']     \n",
            "                                                                                                  \n",
            " block6d_add (Add)              (None, 1, 1, 192)    0           ['block6d_drop[0][0]',           \n",
            "                                                                  'block6c_add[0][0]']            \n",
            "                                                                                                  \n",
            " block7a_expand_conv (Conv2D)   (None, 1, 1, 1152)   221184      ['block6d_add[0][0]']            \n",
            "                                                                                                  \n",
            " block7a_expand_bn (BatchNormal  (None, 1, 1, 1152)  4608        ['block7a_expand_conv[0][0]']    \n",
            " ization)                                                                                         \n",
            "                                                                                                  \n",
            " block7a_expand_activation (Act  (None, 1, 1, 1152)  0           ['block7a_expand_bn[0][0]']      \n",
            " ivation)                                                                                         \n",
            "                                                                                                  \n",
            " block7a_dwconv (DepthwiseConv2  (None, 1, 1, 1152)  10368       ['block7a_expand_activation[0][0]\n",
            " D)                                                              ']                               \n",
            "                                                                                                  \n",
            " block7a_bn (BatchNormalization  (None, 1, 1, 1152)  4608        ['block7a_dwconv[0][0]']         \n",
            " )                                                                                                \n",
            "                                                                                                  \n",
            " block7a_activation (Activation  (None, 1, 1, 1152)  0           ['block7a_bn[0][0]']             \n",
            " )                                                                                                \n",
            "                                                                                                  \n",
            " block7a_se_squeeze (GlobalAver  (None, 1152)        0           ['block7a_activation[0][0]']     \n",
            " agePooling2D)                                                                                    \n",
            "                                                                                                  \n",
            " block7a_se_reshape (Reshape)   (None, 1, 1, 1152)   0           ['block7a_se_squeeze[0][0]']     \n",
            "                                                                                                  \n",
            " block7a_se_reduce (Conv2D)     (None, 1, 1, 48)     55344       ['block7a_se_reshape[0][0]']     \n",
            "                                                                                                  \n",
            " block7a_se_expand (Conv2D)     (None, 1, 1, 1152)   56448       ['block7a_se_reduce[0][0]']      \n",
            "                                                                                                  \n",
            " block7a_se_excite (Multiply)   (None, 1, 1, 1152)   0           ['block7a_activation[0][0]',     \n",
            "                                                                  'block7a_se_expand[0][0]']      \n",
            "                                                                                                  \n",
            " block7a_project_conv (Conv2D)  (None, 1, 1, 320)    368640      ['block7a_se_excite[0][0]']      \n",
            "                                                                                                  \n",
            " block7a_project_bn (BatchNorma  (None, 1, 1, 320)   1280        ['block7a_project_conv[0][0]']   \n",
            " lization)                                                                                        \n",
            "                                                                                                  \n",
            " top_conv (Conv2D)              (None, 1, 1, 1280)   409600      ['block7a_project_bn[0][0]']     \n",
            "                                                                                                  \n",
            " top_bn (BatchNormalization)    (None, 1, 1, 1280)   5120        ['top_conv[0][0]']               \n",
            "                                                                                                  \n",
            " top_activation (Activation)    (None, 1, 1, 1280)   0           ['top_bn[0][0]']                 \n",
            "                                                                                                  \n",
            "==================================================================================================\n",
            "Total params: 4,049,571\n",
            "Trainable params: 4,007,548\n",
            "Non-trainable params: 42,023\n",
            "__________________________________________________________________________________________________\n",
            "None\n"
          ]
        }
      ]
    },
    {
      "cell_type": "code",
      "source": [
        "def ModelEFN(optimizer):\n",
        "  modelefn=Sequential()\n",
        "    \n",
        "  modelefn.add(efnb0)\n",
        "  modelefn.add(GlobalAveragePooling2D())\n",
        "  modelefn.add(Dropout(0.5))\n",
        "  modelefn.add(Dense(10, activation='softmax'))\n",
        "  modelefn.compile(loss=\"categorical_crossentropy\", metrics=[\"accuracy\"], optimizer=optimizer)\n",
        "  return modelefn"
      ],
      "metadata": {
        "id": "Fz-WS4RFRreV"
      },
      "execution_count": null,
      "outputs": []
    },
    {
      "cell_type": "code",
      "source": [
        "optimizers = ['SGD','Adagrad','Adadelta', 'RMSprop', 'Adam']\n",
        "\n",
        "for i in optimizers:\n",
        "\n",
        "  print('\\n=================== Running with {0} Optimizer ====================\\n'.format(i))\n",
        "  modelefn = ModelEFN(i)\n",
        "  hist=modelefn.fit(X_train, y_train, batch_size=32, epochs=10, verbose=1, validation_split = 0.3)\n",
        "  m1=modelefn.evaluate(X_test, y_test)\n",
        "\n",
        "  print('\\n Model test accuracy with {0} optimizer is {1:.2%} \\n'.format(i,m1[1]))"
      ],
      "metadata": {
        "colab": {
          "base_uri": "https://localhost:8080/"
        },
        "id": "P5OAi-kuSXiz",
        "outputId": "2cc4ec27-3ef9-4bab-8e80-cc3838fed413"
      },
      "execution_count": null,
      "outputs": [
        {
          "output_type": "stream",
          "name": "stdout",
          "text": [
            "\n",
            "=================== Running with SGD Optimizer ====================\n",
            "\n",
            "Epoch 1/10\n",
            "1313/1313 [==============================] - 59s 40ms/step - loss: 0.0814 - accuracy: 0.9879 - val_loss: 0.0382 - val_accuracy: 0.9918\n",
            "Epoch 2/10\n",
            "1313/1313 [==============================] - 51s 39ms/step - loss: 0.0254 - accuracy: 0.9943 - val_loss: 0.1445 - val_accuracy: 0.9630\n",
            "Epoch 3/10\n",
            "1313/1313 [==============================] - 56s 43ms/step - loss: 0.0230 - accuracy: 0.9942 - val_loss: 0.0710 - val_accuracy: 0.9819\n",
            "Epoch 4/10\n",
            "1313/1313 [==============================] - 52s 39ms/step - loss: 0.0193 - accuracy: 0.9952 - val_loss: 0.0562 - val_accuracy: 0.9855\n",
            "Epoch 5/10\n",
            "1313/1313 [==============================] - 53s 41ms/step - loss: 0.0178 - accuracy: 0.9955 - val_loss: 0.1503 - val_accuracy: 0.9570\n",
            "Epoch 6/10\n",
            "1313/1313 [==============================] - 56s 43ms/step - loss: 0.0157 - accuracy: 0.9960 - val_loss: 0.0586 - val_accuracy: 0.9843\n",
            "Epoch 7/10\n",
            "1313/1313 [==============================] - 56s 43ms/step - loss: 0.0149 - accuracy: 0.9961 - val_loss: 0.0262 - val_accuracy: 0.9926\n",
            "Epoch 8/10\n",
            "1313/1313 [==============================] - 52s 39ms/step - loss: 0.0145 - accuracy: 0.9961 - val_loss: 0.0680 - val_accuracy: 0.9814\n",
            "Epoch 9/10\n",
            "1313/1313 [==============================] - 51s 39ms/step - loss: 0.0149 - accuracy: 0.9957 - val_loss: 0.0392 - val_accuracy: 0.9890\n",
            "Epoch 10/10\n",
            "1313/1313 [==============================] - 51s 39ms/step - loss: 0.0152 - accuracy: 0.9960 - val_loss: 0.2646 - val_accuracy: 0.9166\n",
            "313/313 [==============================] - 4s 11ms/step - loss: 0.2252 - accuracy: 0.9299\n",
            "\n",
            " Model test accuracy with SGD optimizer is 92.99% \n",
            "\n",
            "\n",
            "=================== Running with Adagrad Optimizer ====================\n",
            "\n",
            "Epoch 1/10\n",
            "1313/1313 [==============================] - 63s 42ms/step - loss: 0.2572 - accuracy: 0.9613 - val_loss: 0.0829 - val_accuracy: 0.9928\n",
            "Epoch 2/10\n",
            "1313/1313 [==============================] - 54s 41ms/step - loss: 0.0592 - accuracy: 0.9946 - val_loss: 0.0482 - val_accuracy: 0.9930\n",
            "Epoch 3/10\n",
            "1313/1313 [==============================] - 54s 41ms/step - loss: 0.0402 - accuracy: 0.9952 - val_loss: 0.0391 - val_accuracy: 0.9929\n",
            "Epoch 4/10\n",
            "1313/1313 [==============================] - 54s 41ms/step - loss: 0.0323 - accuracy: 0.9960 - val_loss: 0.0339 - val_accuracy: 0.9933\n",
            "Epoch 5/10\n",
            "1313/1313 [==============================] - 54s 41ms/step - loss: 0.0277 - accuracy: 0.9962 - val_loss: 0.0311 - val_accuracy: 0.9934\n",
            "Epoch 6/10\n",
            "1313/1313 [==============================] - 53s 41ms/step - loss: 0.0271 - accuracy: 0.9955 - val_loss: 0.0292 - val_accuracy: 0.9934\n",
            "Epoch 7/10\n",
            "1313/1313 [==============================] - 54s 41ms/step - loss: 0.0230 - accuracy: 0.9960 - val_loss: 0.0281 - val_accuracy: 0.9936\n",
            "Epoch 8/10\n",
            "1313/1313 [==============================] - 54s 41ms/step - loss: 0.0221 - accuracy: 0.9958 - val_loss: 0.0273 - val_accuracy: 0.9934\n",
            "Epoch 9/10\n",
            "1313/1313 [==============================] - 58s 44ms/step - loss: 0.0215 - accuracy: 0.9963 - val_loss: 0.0269 - val_accuracy: 0.9936\n",
            "Epoch 10/10\n",
            "1313/1313 [==============================] - 58s 44ms/step - loss: 0.0183 - accuracy: 0.9965 - val_loss: 0.0266 - val_accuracy: 0.9934\n",
            "313/313 [==============================] - 4s 11ms/step - loss: 0.0225 - accuracy: 0.9948\n",
            "\n",
            " Model test accuracy with Adagrad optimizer is 99.48% \n",
            "\n",
            "\n",
            "=================== Running with Adadelta Optimizer ====================\n",
            "\n",
            "Epoch 1/10\n",
            "1313/1313 [==============================] - 69s 47ms/step - loss: 2.6388 - accuracy: 0.1902 - val_loss: 1.8083 - val_accuracy: 0.3759\n",
            "Epoch 2/10\n",
            "1313/1313 [==============================] - 56s 42ms/step - loss: 1.9404 - accuracy: 0.3494 - val_loss: 1.2899 - val_accuracy: 0.6168\n",
            "Epoch 3/10\n",
            "1313/1313 [==============================] - 60s 46ms/step - loss: 1.3913 - accuracy: 0.5453 - val_loss: 0.9152 - val_accuracy: 0.9627\n",
            "Epoch 4/10\n",
            "1313/1313 [==============================] - 60s 46ms/step - loss: 0.9989 - accuracy: 0.7208 - val_loss: 0.6648 - val_accuracy: 0.9842\n",
            "Epoch 5/10\n",
            "1313/1313 [==============================] - 55s 42ms/step - loss: 0.7278 - accuracy: 0.8436 - val_loss: 0.4909 - val_accuracy: 0.9871\n",
            "Epoch 6/10\n",
            "1313/1313 [==============================] - 55s 42ms/step - loss: 0.5385 - accuracy: 0.9144 - val_loss: 0.3574 - val_accuracy: 0.9886\n",
            "Epoch 7/10\n",
            "1313/1313 [==============================] - 55s 42ms/step - loss: 0.4114 - accuracy: 0.9518 - val_loss: 0.2829 - val_accuracy: 0.9903\n",
            "Epoch 8/10\n",
            "1313/1313 [==============================] - 55s 42ms/step - loss: 0.3205 - accuracy: 0.9689 - val_loss: 0.2212 - val_accuracy: 0.9907\n",
            "Epoch 9/10\n",
            "1313/1313 [==============================] - 55s 42ms/step - loss: 0.2602 - accuracy: 0.9787 - val_loss: 0.1762 - val_accuracy: 0.9913\n",
            "Epoch 10/10\n",
            "1313/1313 [==============================] - 60s 45ms/step - loss: 0.2129 - accuracy: 0.9833 - val_loss: 0.1471 - val_accuracy: 0.9923\n",
            "313/313 [==============================] - 4s 11ms/step - loss: 0.1418 - accuracy: 0.9927\n",
            "\n",
            " Model test accuracy with Adadelta optimizer is 99.27% \n",
            "\n",
            "\n",
            "=================== Running with RMSprop Optimizer ====================\n",
            "\n",
            "Epoch 1/10\n",
            "1313/1313 [==============================] - 81s 52ms/step - loss: 0.0439 - accuracy: 0.9896 - val_loss: 4.4152 - val_accuracy: 0.2936\n",
            "Epoch 2/10\n",
            "1313/1313 [==============================] - 72s 55ms/step - loss: 0.0402 - accuracy: 0.9927 - val_loss: 4.3825 - val_accuracy: 0.1781\n",
            "Epoch 3/10\n",
            "1313/1313 [==============================] - 68s 52ms/step - loss: 0.0316 - accuracy: 0.9937 - val_loss: 0.2410 - val_accuracy: 0.9364\n",
            "Epoch 4/10\n",
            "1313/1313 [==============================] - 73s 55ms/step - loss: 0.0376 - accuracy: 0.9929 - val_loss: 3.2419 - val_accuracy: 0.3055\n",
            "Epoch 5/10\n",
            "1313/1313 [==============================] - 68s 52ms/step - loss: 0.0331 - accuracy: 0.9942 - val_loss: 3.4929 - val_accuracy: 0.3908\n",
            "Epoch 6/10\n",
            "1313/1313 [==============================] - 67s 51ms/step - loss: 0.0347 - accuracy: 0.9940 - val_loss: 3.9939 - val_accuracy: 0.2362\n",
            "Epoch 7/10\n",
            "1313/1313 [==============================] - 67s 51ms/step - loss: 0.0308 - accuracy: 0.9950 - val_loss: 9.0343 - val_accuracy: 0.1144\n",
            "Epoch 8/10\n",
            "1313/1313 [==============================] - 67s 51ms/step - loss: 0.0367 - accuracy: 0.9942 - val_loss: 0.8658 - val_accuracy: 0.7467\n",
            "Epoch 9/10\n",
            "1313/1313 [==============================] - 67s 51ms/step - loss: 0.0368 - accuracy: 0.9943 - val_loss: 0.4702 - val_accuracy: 0.8772\n",
            "Epoch 10/10\n",
            "1313/1313 [==============================] - 72s 55ms/step - loss: 0.0400 - accuracy: 0.9951 - val_loss: 0.2083 - val_accuracy: 0.9426\n",
            "313/313 [==============================] - 4s 12ms/step - loss: 0.1980 - accuracy: 0.9436\n",
            "\n",
            " Model test accuracy with RMSprop optimizer is 94.36% \n",
            "\n",
            "\n",
            "=================== Running with Adam Optimizer ====================\n",
            "\n",
            "Epoch 1/10\n",
            "1313/1313 [==============================] - 63s 42ms/step - loss: 0.0546 - accuracy: 0.9879 - val_loss: 2.2704 - val_accuracy: 0.3517\n",
            "Epoch 2/10\n",
            "1313/1313 [==============================] - 59s 45ms/step - loss: 0.0290 - accuracy: 0.9930 - val_loss: 0.0987 - val_accuracy: 0.9741\n",
            "Epoch 3/10\n",
            "1313/1313 [==============================] - 59s 45ms/step - loss: 0.0395 - accuracy: 0.9904 - val_loss: 1.2851 - val_accuracy: 0.5678\n",
            "Epoch 4/10\n",
            "1313/1313 [==============================] - 53s 41ms/step - loss: 0.0478 - accuracy: 0.9898 - val_loss: 0.4051 - val_accuracy: 0.8767\n",
            "Epoch 5/10\n",
            "1313/1313 [==============================] - 53s 41ms/step - loss: 0.0265 - accuracy: 0.9933 - val_loss: 0.0377 - val_accuracy: 0.9904\n",
            "Epoch 6/10\n",
            "1313/1313 [==============================] - 58s 44ms/step - loss: 0.0203 - accuracy: 0.9955 - val_loss: 2.4752 - val_accuracy: 0.4912\n",
            "Epoch 7/10\n",
            "1313/1313 [==============================] - 53s 41ms/step - loss: 0.0357 - accuracy: 0.9922 - val_loss: 2.3595 - val_accuracy: 0.4960\n",
            "Epoch 8/10\n",
            "1313/1313 [==============================] - 54s 41ms/step - loss: 0.0322 - accuracy: 0.9922 - val_loss: 0.0366 - val_accuracy: 0.9905\n",
            "Epoch 9/10\n",
            "1313/1313 [==============================] - 58s 44ms/step - loss: 0.0225 - accuracy: 0.9949 - val_loss: 4.6617 - val_accuracy: 0.3455\n",
            "Epoch 10/10\n",
            "1313/1313 [==============================] - 58s 44ms/step - loss: 0.0339 - accuracy: 0.9919 - val_loss: 0.0809 - val_accuracy: 0.9806\n",
            "313/313 [==============================] - 4s 11ms/step - loss: 0.0683 - accuracy: 0.9825\n",
            "\n",
            " Model test accuracy with Adam optimizer is 98.25% \n",
            "\n"
          ]
        }
      ]
    },
    {
      "cell_type": "code",
      "execution_count": null,
      "metadata": {
        "id": "nw1f-5s8TGWB"
      },
      "outputs": [],
      "source": [
        "######################################################"
      ]
    },
    {
      "cell_type": "code",
      "source": [],
      "metadata": {
        "id": "8Uj28JWCP68-"
      },
      "execution_count": null,
      "outputs": []
    },
    {
      "cell_type": "markdown",
      "source": [
        "# New Section"
      ],
      "metadata": {
        "id": "Uw1jSmbmQVpx"
      }
    }
  ],
  "metadata": {
    "accelerator": "GPU",
    "colab": {
      "collapsed_sections": [],
      "provenance": [],
      "include_colab_link": true
    },
    "gpuClass": "standard",
    "kernelspec": {
      "display_name": "Python 3",
      "name": "python3"
    },
    "language_info": {
      "name": "python"
    }
  },
  "nbformat": 4,
  "nbformat_minor": 0
}